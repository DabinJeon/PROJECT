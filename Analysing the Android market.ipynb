{
 "cells": [
  {
   "cell_type": "markdown",
   "metadata": {},
   "source": [
    "# Google Play Store Apps\n",
    "### Web scraped data of 10k Play Store apps for analysing the Android market."
   ]
  },
  {
   "cell_type": "code",
   "execution_count": 1,
   "metadata": {},
   "outputs": [],
   "source": [
    "# The Play Store apps data has enormous potential to drive app-making businesses to success. \n",
    "# Actionable insights can be drawn for developers to work on and capture the Android market!"
   ]
  },
  {
   "cell_type": "code",
   "execution_count": 2,
   "metadata": {},
   "outputs": [],
   "source": [
    "# 그래프를 통하여 최근 App 들의 Trend를 발견"
   ]
  },
  {
   "cell_type": "code",
   "execution_count": 3,
   "metadata": {},
   "outputs": [],
   "source": [
    "# Android Matket에서 제공된 데이터만으로 App의 Rating을 예측하는 모델을 생성"
   ]
  },
  {
   "cell_type": "markdown",
   "metadata": {},
   "source": [
    "## 0.데이터 확인"
   ]
  },
  {
   "cell_type": "code",
   "execution_count": 4,
   "metadata": {},
   "outputs": [],
   "source": [
    "import pandas as pd\n",
    "import numpy as np\n",
    "import matplotlib.pyplot as plt\n",
    "import seaborn as sns\n",
    "import re"
   ]
  },
  {
   "cell_type": "code",
   "execution_count": 5,
   "metadata": {},
   "outputs": [],
   "source": [
    "app=pd.read_csv(\"googleplaystore.csv\",sep=\",\",parse_dates=[\"Last Updated\"])"
   ]
  },
  {
   "cell_type": "code",
   "execution_count": 6,
   "metadata": {},
   "outputs": [],
   "source": [
    "# Rating값이 상위 6위에 드는 데이터 출력 -> 즉각적으로 확인할 수 있는 경향이 보이는지 확인"
   ]
  },
  {
   "cell_type": "code",
   "execution_count": 7,
   "metadata": {},
   "outputs": [
    {
     "data": {
      "text/html": [
       "<div>\n",
       "<style scoped>\n",
       "    .dataframe tbody tr th:only-of-type {\n",
       "        vertical-align: middle;\n",
       "    }\n",
       "\n",
       "    .dataframe tbody tr th {\n",
       "        vertical-align: top;\n",
       "    }\n",
       "\n",
       "    .dataframe thead th {\n",
       "        text-align: right;\n",
       "    }\n",
       "</style>\n",
       "<table border=\"1\" class=\"dataframe\">\n",
       "  <thead>\n",
       "    <tr style=\"text-align: right;\">\n",
       "      <th></th>\n",
       "      <th>App</th>\n",
       "      <th>Category</th>\n",
       "      <th>Rating</th>\n",
       "      <th>Reviews</th>\n",
       "      <th>Size</th>\n",
       "      <th>Installs</th>\n",
       "      <th>Type</th>\n",
       "      <th>Price</th>\n",
       "      <th>Content Rating</th>\n",
       "      <th>Genres</th>\n",
       "      <th>Last Updated</th>\n",
       "      <th>Current Ver</th>\n",
       "      <th>Android Ver</th>\n",
       "    </tr>\n",
       "  </thead>\n",
       "  <tbody>\n",
       "    <tr>\n",
       "      <th>10472</th>\n",
       "      <td>Life Made WI-Fi Touchscreen Photo Frame</td>\n",
       "      <td>1.9</td>\n",
       "      <td>19.0</td>\n",
       "      <td>3.0M</td>\n",
       "      <td>1,000+</td>\n",
       "      <td>Free</td>\n",
       "      <td>0</td>\n",
       "      <td>Everyone</td>\n",
       "      <td>NaN</td>\n",
       "      <td>February 11, 2018</td>\n",
       "      <td>1.0.19</td>\n",
       "      <td>4.0 and up</td>\n",
       "      <td>NaN</td>\n",
       "    </tr>\n",
       "    <tr>\n",
       "      <th>9511</th>\n",
       "      <td>Ek Bander Ne Kholi Dukan</td>\n",
       "      <td>FAMILY</td>\n",
       "      <td>5.0</td>\n",
       "      <td>10</td>\n",
       "      <td>3.0M</td>\n",
       "      <td>10,000+</td>\n",
       "      <td>Free</td>\n",
       "      <td>0</td>\n",
       "      <td>Everyone</td>\n",
       "      <td>Entertainment</td>\n",
       "      <td>June 26, 2017</td>\n",
       "      <td>1.0.9</td>\n",
       "      <td>4.0 and up</td>\n",
       "    </tr>\n",
       "    <tr>\n",
       "      <th>10166</th>\n",
       "      <td>FA Player Essentials</td>\n",
       "      <td>SPORTS</td>\n",
       "      <td>5.0</td>\n",
       "      <td>7</td>\n",
       "      <td>68M</td>\n",
       "      <td>100+</td>\n",
       "      <td>Free</td>\n",
       "      <td>0</td>\n",
       "      <td>Everyone</td>\n",
       "      <td>Sports</td>\n",
       "      <td>July 23, 2018</td>\n",
       "      <td>1.6.0</td>\n",
       "      <td>4.0.3 and up</td>\n",
       "    </tr>\n",
       "    <tr>\n",
       "      <th>7895</th>\n",
       "      <td>Dine In CT - Food Delivery</td>\n",
       "      <td>SHOPPING</td>\n",
       "      <td>5.0</td>\n",
       "      <td>4</td>\n",
       "      <td>1.6M</td>\n",
       "      <td>1,000+</td>\n",
       "      <td>Free</td>\n",
       "      <td>0</td>\n",
       "      <td>Everyone</td>\n",
       "      <td>Shopping</td>\n",
       "      <td>May 16, 2016</td>\n",
       "      <td>1.3</td>\n",
       "      <td>4.0 and up</td>\n",
       "    </tr>\n",
       "    <tr>\n",
       "      <th>5118</th>\n",
       "      <td>Eternal Light AG</td>\n",
       "      <td>SOCIAL</td>\n",
       "      <td>5.0</td>\n",
       "      <td>30</td>\n",
       "      <td>13M</td>\n",
       "      <td>100+</td>\n",
       "      <td>Free</td>\n",
       "      <td>0</td>\n",
       "      <td>Teen</td>\n",
       "      <td>Social</td>\n",
       "      <td>May 19, 2018</td>\n",
       "      <td>1.04</td>\n",
       "      <td>4.0.3 and up</td>\n",
       "    </tr>\n",
       "    <tr>\n",
       "      <th>6953</th>\n",
       "      <td>BxPort - Bitcoin Bx (Thailand)</td>\n",
       "      <td>FINANCE</td>\n",
       "      <td>5.0</td>\n",
       "      <td>4</td>\n",
       "      <td>4.1M</td>\n",
       "      <td>50+</td>\n",
       "      <td>Free</td>\n",
       "      <td>0</td>\n",
       "      <td>Everyone</td>\n",
       "      <td>Finance</td>\n",
       "      <td>July 14, 2018</td>\n",
       "      <td>1.0.4</td>\n",
       "      <td>4.2 and up</td>\n",
       "    </tr>\n",
       "  </tbody>\n",
       "</table>\n",
       "</div>"
      ],
      "text/plain": [
       "                                           App  Category  Rating Reviews  \\\n",
       "10472  Life Made WI-Fi Touchscreen Photo Frame       1.9    19.0    3.0M   \n",
       "9511                  Ek Bander Ne Kholi Dukan    FAMILY     5.0      10   \n",
       "10166                     FA Player Essentials    SPORTS     5.0       7   \n",
       "7895                Dine In CT - Food Delivery  SHOPPING     5.0       4   \n",
       "5118                          Eternal Light AG    SOCIAL     5.0      30   \n",
       "6953            BxPort - Bitcoin Bx (Thailand)   FINANCE     5.0       4   \n",
       "\n",
       "         Size Installs  Type     Price Content Rating             Genres  \\\n",
       "10472  1,000+     Free     0  Everyone            NaN  February 11, 2018   \n",
       "9511     3.0M  10,000+  Free         0       Everyone      Entertainment   \n",
       "10166     68M     100+  Free         0       Everyone             Sports   \n",
       "7895     1.6M   1,000+  Free         0       Everyone           Shopping   \n",
       "5118      13M     100+  Free         0           Teen             Social   \n",
       "6953     4.1M      50+  Free         0       Everyone            Finance   \n",
       "\n",
       "        Last Updated Current Ver   Android Ver  \n",
       "10472         1.0.19  4.0 and up           NaN  \n",
       "9511   June 26, 2017       1.0.9    4.0 and up  \n",
       "10166  July 23, 2018       1.6.0  4.0.3 and up  \n",
       "7895    May 16, 2016         1.3    4.0 and up  \n",
       "5118    May 19, 2018        1.04  4.0.3 and up  \n",
       "6953   July 14, 2018       1.0.4    4.2 and up  "
      ]
     },
     "execution_count": 7,
     "metadata": {},
     "output_type": "execute_result"
    }
   ],
   "source": [
    "app.sort_values(by=\"Rating\",ascending=False).head(6)"
   ]
  },
  {
   "cell_type": "code",
   "execution_count": 8,
   "metadata": {},
   "outputs": [
    {
     "name": "stdout",
     "output_type": "stream",
     "text": [
      "<class 'pandas.core.frame.DataFrame'>\n",
      "RangeIndex: 10841 entries, 0 to 10840\n",
      "Data columns (total 13 columns):\n",
      "App               10841 non-null object\n",
      "Category          10841 non-null object\n",
      "Rating            9367 non-null float64\n",
      "Reviews           10841 non-null object\n",
      "Size              10841 non-null object\n",
      "Installs          10841 non-null object\n",
      "Type              10840 non-null object\n",
      "Price             10841 non-null object\n",
      "Content Rating    10840 non-null object\n",
      "Genres            10841 non-null object\n",
      "Last Updated      10841 non-null object\n",
      "Current Ver       10833 non-null object\n",
      "Android Ver       10838 non-null object\n",
      "dtypes: float64(1), object(12)\n",
      "memory usage: 1.1+ MB\n"
     ]
    }
   ],
   "source": [
    "app.info() "
   ]
  },
  {
   "cell_type": "code",
   "execution_count": 9,
   "metadata": {},
   "outputs": [],
   "source": [
    "# \"Last Updated\" 가 datetime으로 읽히지 않음 -> 추후 처리 필요"
   ]
  },
  {
   "cell_type": "markdown",
   "metadata": {},
   "source": [
    "## 1.데이터 전처리"
   ]
  },
  {
   "cell_type": "code",
   "execution_count": 10,
   "metadata": {},
   "outputs": [
    {
     "data": {
      "text/html": [
       "<div>\n",
       "<style scoped>\n",
       "    .dataframe tbody tr th:only-of-type {\n",
       "        vertical-align: middle;\n",
       "    }\n",
       "\n",
       "    .dataframe tbody tr th {\n",
       "        vertical-align: top;\n",
       "    }\n",
       "\n",
       "    .dataframe thead th {\n",
       "        text-align: right;\n",
       "    }\n",
       "</style>\n",
       "<table border=\"1\" class=\"dataframe\">\n",
       "  <thead>\n",
       "    <tr style=\"text-align: right;\">\n",
       "      <th></th>\n",
       "      <th>App</th>\n",
       "      <th>Category</th>\n",
       "      <th>Rating</th>\n",
       "      <th>Reviews</th>\n",
       "      <th>Size</th>\n",
       "      <th>Installs</th>\n",
       "      <th>Type</th>\n",
       "      <th>Price</th>\n",
       "      <th>Content Rating</th>\n",
       "      <th>Genres</th>\n",
       "      <th>Last Updated</th>\n",
       "      <th>Current Ver</th>\n",
       "      <th>Android Ver</th>\n",
       "    </tr>\n",
       "  </thead>\n",
       "  <tbody>\n",
       "    <tr>\n",
       "      <th>0</th>\n",
       "      <td>Photo Editor &amp; Candy Camera &amp; Grid &amp; ScrapBook</td>\n",
       "      <td>ART_AND_DESIGN</td>\n",
       "      <td>4.1</td>\n",
       "      <td>159</td>\n",
       "      <td>19M</td>\n",
       "      <td>10,000+</td>\n",
       "      <td>Free</td>\n",
       "      <td>0</td>\n",
       "      <td>Everyone</td>\n",
       "      <td>Art &amp; Design</td>\n",
       "      <td>January 7, 2018</td>\n",
       "      <td>1.0.0</td>\n",
       "      <td>4.0.3 and up</td>\n",
       "    </tr>\n",
       "    <tr>\n",
       "      <th>1</th>\n",
       "      <td>Coloring book moana</td>\n",
       "      <td>ART_AND_DESIGN</td>\n",
       "      <td>3.9</td>\n",
       "      <td>967</td>\n",
       "      <td>14M</td>\n",
       "      <td>500,000+</td>\n",
       "      <td>Free</td>\n",
       "      <td>0</td>\n",
       "      <td>Everyone</td>\n",
       "      <td>Art &amp; Design;Pretend Play</td>\n",
       "      <td>January 15, 2018</td>\n",
       "      <td>2.0.0</td>\n",
       "      <td>4.0.3 and up</td>\n",
       "    </tr>\n",
       "  </tbody>\n",
       "</table>\n",
       "</div>"
      ],
      "text/plain": [
       "                                              App        Category  Rating  \\\n",
       "0  Photo Editor & Candy Camera & Grid & ScrapBook  ART_AND_DESIGN     4.1   \n",
       "1                             Coloring book moana  ART_AND_DESIGN     3.9   \n",
       "\n",
       "  Reviews Size  Installs  Type Price Content Rating  \\\n",
       "0     159  19M   10,000+  Free     0       Everyone   \n",
       "1     967  14M  500,000+  Free     0       Everyone   \n",
       "\n",
       "                      Genres      Last Updated Current Ver   Android Ver  \n",
       "0               Art & Design   January 7, 2018       1.0.0  4.0.3 and up  \n",
       "1  Art & Design;Pretend Play  January 15, 2018       2.0.0  4.0.3 and up  "
      ]
     },
     "execution_count": 10,
     "metadata": {},
     "output_type": "execute_result"
    }
   ],
   "source": [
    "app.head(2)"
   ]
  },
  {
   "cell_type": "code",
   "execution_count": 11,
   "metadata": {},
   "outputs": [],
   "source": [
    "# Current Ver 과 Android Ver는 큰 의마가 없을 것으로 보여짐"
   ]
  },
  {
   "cell_type": "markdown",
   "metadata": {},
   "source": [
    "### < 명목형 변수 수치화 >"
   ]
  },
  {
   "cell_type": "markdown",
   "metadata": {},
   "source": [
    "#### Category 변수 처리"
   ]
  },
  {
   "cell_type": "code",
   "execution_count": 12,
   "metadata": {},
   "outputs": [
    {
     "name": "stdout",
     "output_type": "stream",
     "text": [
      "34\n",
      "['ART_AND_DESIGN' 'AUTO_AND_VEHICLES' 'BEAUTY' 'BOOKS_AND_REFERENCE'\n",
      " 'BUSINESS' 'COMICS' 'COMMUNICATION' 'DATING' 'EDUCATION' 'ENTERTAINMENT'\n",
      " 'EVENTS' 'FINANCE' 'FOOD_AND_DRINK' 'HEALTH_AND_FITNESS' 'HOUSE_AND_HOME'\n",
      " 'LIBRARIES_AND_DEMO' 'LIFESTYLE' 'GAME' 'FAMILY' 'MEDICAL' 'SOCIAL'\n",
      " 'SHOPPING' 'PHOTOGRAPHY' 'SPORTS' 'TRAVEL_AND_LOCAL' 'TOOLS'\n",
      " 'PERSONALIZATION' 'PRODUCTIVITY' 'PARENTING' 'WEATHER' 'VIDEO_PLAYERS'\n",
      " 'NEWS_AND_MAGAZINES' 'MAPS_AND_NAVIGATION' '1.9']\n"
     ]
    }
   ],
   "source": [
    "print(len(app.Category.unique()))\n",
    "print(app.Category.unique())"
   ]
  },
  {
   "cell_type": "code",
   "execution_count": 13,
   "metadata": {},
   "outputs": [
    {
     "data": {
      "text/html": [
       "<div>\n",
       "<style scoped>\n",
       "    .dataframe tbody tr th:only-of-type {\n",
       "        vertical-align: middle;\n",
       "    }\n",
       "\n",
       "    .dataframe tbody tr th {\n",
       "        vertical-align: top;\n",
       "    }\n",
       "\n",
       "    .dataframe thead th {\n",
       "        text-align: right;\n",
       "    }\n",
       "</style>\n",
       "<table border=\"1\" class=\"dataframe\">\n",
       "  <thead>\n",
       "    <tr style=\"text-align: right;\">\n",
       "      <th></th>\n",
       "      <th>App</th>\n",
       "      <th>Category</th>\n",
       "      <th>Rating</th>\n",
       "      <th>Reviews</th>\n",
       "      <th>Size</th>\n",
       "      <th>Installs</th>\n",
       "      <th>Type</th>\n",
       "      <th>Price</th>\n",
       "      <th>Content Rating</th>\n",
       "      <th>Genres</th>\n",
       "      <th>Last Updated</th>\n",
       "      <th>Current Ver</th>\n",
       "      <th>Android Ver</th>\n",
       "    </tr>\n",
       "  </thead>\n",
       "  <tbody>\n",
       "    <tr>\n",
       "      <th>10472</th>\n",
       "      <td>Life Made WI-Fi Touchscreen Photo Frame</td>\n",
       "      <td>1.9</td>\n",
       "      <td>19.0</td>\n",
       "      <td>3.0M</td>\n",
       "      <td>1,000+</td>\n",
       "      <td>Free</td>\n",
       "      <td>0</td>\n",
       "      <td>Everyone</td>\n",
       "      <td>NaN</td>\n",
       "      <td>February 11, 2018</td>\n",
       "      <td>1.0.19</td>\n",
       "      <td>4.0 and up</td>\n",
       "      <td>NaN</td>\n",
       "    </tr>\n",
       "  </tbody>\n",
       "</table>\n",
       "</div>"
      ],
      "text/plain": [
       "                                           App Category  Rating Reviews  \\\n",
       "10472  Life Made WI-Fi Touchscreen Photo Frame      1.9    19.0    3.0M   \n",
       "\n",
       "         Size Installs Type     Price Content Rating             Genres  \\\n",
       "10472  1,000+     Free    0  Everyone            NaN  February 11, 2018   \n",
       "\n",
       "      Last Updated Current Ver Android Ver  \n",
       "10472       1.0.19  4.0 and up         NaN  "
      ]
     },
     "execution_count": 13,
     "metadata": {},
     "output_type": "execute_result"
    }
   ],
   "source": [
    "app[app[\"Category\"]==\"1.9\"]"
   ]
  },
  {
   "cell_type": "code",
   "execution_count": 14,
   "metadata": {},
   "outputs": [],
   "source": [
    "app[\"Category\"]=app[\"Category\"].replace(\"1.9\",\"TOOLS\")"
   ]
  },
  {
   "cell_type": "code",
   "execution_count": 15,
   "metadata": {},
   "outputs": [],
   "source": [
    "category_number={'ART_AND_DESIGN':0, 'AUTO_AND_VEHICLES':1, 'BEAUTY':2, 'BOOKS_AND_REFERENCE':3,\n",
    " 'BUSINESS':4, 'COMICS':5, 'COMMUNICATION':6, 'DATING':7, 'EDUCATION':8, 'ENTERTAINMENT':9,\n",
    " 'EVENTS':10, 'FINANCE':11, 'FOOD_AND_DRINK':12, 'HEALTH_AND_FITNESS':13, 'HOUSE_AND_HOME':14,\n",
    " 'LIBRARIES_AND_DEMO':15, 'LIFESTYLE':16, 'GAME':17, 'FAMILY':18, 'MEDICAL':19, 'SOCIAL':20,\n",
    " 'SHOPPING':21, 'PHOTOGRAPHY':22, 'SPORTS':23, 'TRAVEL_AND_LOCAL':24, 'TOOLS':25,\n",
    " 'PERSONALIZATION':26, 'PRODUCTIVITY':27, 'PARENTING':28, 'WEATHER':29, 'VIDEO_PLAYERS':30,\n",
    " 'NEWS_AND_MAGAZINES':31, 'MAPS_AND_NAVIGATION':32}"
   ]
  },
  {
   "cell_type": "code",
   "execution_count": 16,
   "metadata": {},
   "outputs": [
    {
     "data": {
      "text/plain": [
       "array([ 0,  1,  2,  3,  4,  5,  6,  7,  8,  9, 10, 11, 12, 13, 14, 15, 16,\n",
       "       17, 18, 19, 20, 21, 22, 23, 24, 25, 26, 27, 28, 29, 30, 31, 32],\n",
       "      dtype=int64)"
      ]
     },
     "execution_count": 16,
     "metadata": {},
     "output_type": "execute_result"
    }
   ],
   "source": [
    "app[\"Category\"]=app[\"Category\"].map(category_number).astype(int)\n",
    "app[\"Category\"].unique()"
   ]
  },
  {
   "cell_type": "markdown",
   "metadata": {},
   "source": [
    "#### Genres 변수 처리"
   ]
  },
  {
   "cell_type": "code",
   "execution_count": 17,
   "metadata": {},
   "outputs": [
    {
     "name": "stdout",
     "output_type": "stream",
     "text": [
      "120\n",
      "['Art & Design' 'Art & Design;Pretend Play' 'Art & Design;Creativity'\n",
      " 'Art & Design;Action & Adventure' 'Auto & Vehicles' 'Beauty'\n",
      " 'Books & Reference' 'Business' 'Comics' 'Comics;Creativity'\n",
      " 'Communication' 'Dating' 'Education;Education' 'Education'\n",
      " 'Education;Creativity' 'Education;Music & Video'\n",
      " 'Education;Action & Adventure' 'Education;Pretend Play'\n",
      " 'Education;Brain Games' 'Entertainment' 'Entertainment;Music & Video'\n",
      " 'Entertainment;Brain Games' 'Entertainment;Creativity' 'Events' 'Finance'\n",
      " 'Food & Drink' 'Health & Fitness' 'House & Home' 'Libraries & Demo'\n",
      " 'Lifestyle' 'Lifestyle;Pretend Play' 'Adventure;Action & Adventure'\n",
      " 'Arcade' 'Casual' 'Card' 'Casual;Pretend Play' 'Action' 'Strategy'\n",
      " 'Puzzle' 'Sports' 'Music' 'Word' 'Racing' 'Casual;Creativity'\n",
      " 'Casual;Action & Adventure' 'Simulation' 'Adventure' 'Board' 'Trivia'\n",
      " 'Role Playing' 'Simulation;Education' 'Action;Action & Adventure'\n",
      " 'Casual;Brain Games' 'Simulation;Action & Adventure'\n",
      " 'Educational;Creativity' 'Puzzle;Brain Games' 'Educational;Education'\n",
      " 'Card;Brain Games' 'Educational;Brain Games' 'Educational;Pretend Play'\n",
      " 'Entertainment;Education' 'Casual;Education' 'Music;Music & Video'\n",
      " 'Racing;Action & Adventure' 'Arcade;Pretend Play'\n",
      " 'Role Playing;Action & Adventure' 'Simulation;Pretend Play'\n",
      " 'Puzzle;Creativity' 'Sports;Action & Adventure'\n",
      " 'Educational;Action & Adventure' 'Arcade;Action & Adventure'\n",
      " 'Entertainment;Action & Adventure' 'Puzzle;Action & Adventure'\n",
      " 'Strategy;Action & Adventure' 'Music & Audio;Music & Video'\n",
      " 'Health & Fitness;Education' 'Adventure;Education' 'Board;Brain Games'\n",
      " 'Board;Action & Adventure' 'Board;Pretend Play' 'Casual;Music & Video'\n",
      " 'Role Playing;Pretend Play' 'Entertainment;Pretend Play'\n",
      " 'Video Players & Editors;Creativity' 'Card;Action & Adventure' 'Medical'\n",
      " 'Social' 'Shopping' 'Photography' 'Travel & Local'\n",
      " 'Travel & Local;Action & Adventure' 'Tools' 'Tools;Education'\n",
      " 'Personalization' 'Productivity' 'Parenting' 'Parenting;Music & Video'\n",
      " 'Parenting;Education' 'Parenting;Brain Games' 'Weather'\n",
      " 'Video Players & Editors' 'Video Players & Editors;Music & Video'\n",
      " 'News & Magazines' 'Maps & Navigation'\n",
      " 'Health & Fitness;Action & Adventure' 'Educational' 'Casino'\n",
      " 'Adventure;Brain Games' 'Trivia;Education' 'Lifestyle;Education'\n",
      " 'Books & Reference;Creativity' 'Books & Reference;Education'\n",
      " 'Puzzle;Education' 'Role Playing;Education' 'Role Playing;Brain Games'\n",
      " 'Strategy;Education' 'Racing;Pretend Play' 'Communication;Creativity'\n",
      " 'February 11, 2018' 'Strategy;Creativity']\n"
     ]
    }
   ],
   "source": [
    "print(len(app.Genres.unique()))\n",
    "print(app.Genres.unique()) "
   ]
  },
  {
   "cell_type": "code",
   "execution_count": 18,
   "metadata": {},
   "outputs": [
    {
     "data": {
      "text/plain": [
       "array(['Adventure;Action & Adventure', 'Arcade', 'Casual', 'Card',\n",
       "       'Casual;Pretend Play', 'Action', 'Strategy', 'Puzzle', 'Sports',\n",
       "       'Music', 'Word', 'Racing', 'Casual;Creativity',\n",
       "       'Casual;Action & Adventure', 'Simulation', 'Adventure', 'Board',\n",
       "       'Trivia', 'Role Playing', 'Simulation;Education',\n",
       "       'Action;Action & Adventure', 'Casual;Brain Games',\n",
       "       'Simulation;Action & Adventure', 'Casino'], dtype=object)"
      ]
     },
     "execution_count": 18,
     "metadata": {},
     "output_type": "execute_result"
    }
   ],
   "source": [
    "app[app[\"Category\"]==17][\"Genres\"].unique() #'GAME':17"
   ]
  },
  {
   "cell_type": "code",
   "execution_count": 19,
   "metadata": {},
   "outputs": [],
   "source": [
    "# 요소 갯수가 많으므로, 각 요소마다 숫자를 부여하는 함수 작성"
   ]
  },
  {
   "cell_type": "code",
   "execution_count": 20,
   "metadata": {},
   "outputs": [],
   "source": [
    "genres_list=app[\"Genres\"].unique()\n",
    "\n",
    "genres_dict={}\n",
    "for i in range(len(genres_list)):\n",
    "    genres_dict[genres_list[i]]=i\n",
    "\n",
    "app[\"Genres\"]=app[\"Genres\"].map(genres_dict).astype(int)"
   ]
  },
  {
   "cell_type": "code",
   "execution_count": 21,
   "metadata": {},
   "outputs": [
    {
     "name": "stdout",
     "output_type": "stream",
     "text": [
      "<class 'pandas.core.frame.DataFrame'>\n",
      "RangeIndex: 10841 entries, 0 to 10840\n",
      "Data columns (total 13 columns):\n",
      "App               10841 non-null object\n",
      "Category          10841 non-null int32\n",
      "Rating            9367 non-null float64\n",
      "Reviews           10841 non-null object\n",
      "Size              10841 non-null object\n",
      "Installs          10841 non-null object\n",
      "Type              10840 non-null object\n",
      "Price             10841 non-null object\n",
      "Content Rating    10840 non-null object\n",
      "Genres            10841 non-null int32\n",
      "Last Updated      10841 non-null object\n",
      "Current Ver       10833 non-null object\n",
      "Android Ver       10838 non-null object\n",
      "dtypes: float64(1), int32(2), object(10)\n",
      "memory usage: 1016.4+ KB\n"
     ]
    }
   ],
   "source": [
    "app.info()"
   ]
  },
  {
   "cell_type": "markdown",
   "metadata": {},
   "source": [
    "### < NAN 처리 & 명목형 변수 수치화 >"
   ]
  },
  {
   "cell_type": "markdown",
   "metadata": {},
   "source": [
    "#### Type 변수 처리"
   ]
  },
  {
   "cell_type": "code",
   "execution_count": 22,
   "metadata": {},
   "outputs": [
    {
     "data": {
      "text/plain": [
       "array(['Free', 'Paid', nan, '0'], dtype=object)"
      ]
     },
     "execution_count": 22,
     "metadata": {},
     "output_type": "execute_result"
    }
   ],
   "source": [
    "app[\"Type\"].unique()"
   ]
  },
  {
   "cell_type": "code",
   "execution_count": 23,
   "metadata": {},
   "outputs": [
    {
     "data": {
      "text/html": [
       "<div>\n",
       "<style scoped>\n",
       "    .dataframe tbody tr th:only-of-type {\n",
       "        vertical-align: middle;\n",
       "    }\n",
       "\n",
       "    .dataframe tbody tr th {\n",
       "        vertical-align: top;\n",
       "    }\n",
       "\n",
       "    .dataframe thead th {\n",
       "        text-align: right;\n",
       "    }\n",
       "</style>\n",
       "<table border=\"1\" class=\"dataframe\">\n",
       "  <thead>\n",
       "    <tr style=\"text-align: right;\">\n",
       "      <th></th>\n",
       "      <th>App</th>\n",
       "      <th>Category</th>\n",
       "      <th>Rating</th>\n",
       "      <th>Reviews</th>\n",
       "      <th>Size</th>\n",
       "      <th>Installs</th>\n",
       "      <th>Type</th>\n",
       "      <th>Price</th>\n",
       "      <th>Content Rating</th>\n",
       "      <th>Genres</th>\n",
       "      <th>Last Updated</th>\n",
       "      <th>Current Ver</th>\n",
       "      <th>Android Ver</th>\n",
       "    </tr>\n",
       "  </thead>\n",
       "  <tbody>\n",
       "    <tr>\n",
       "      <th>9148</th>\n",
       "      <td>Command &amp; Conquer: Rivals</td>\n",
       "      <td>18</td>\n",
       "      <td>NaN</td>\n",
       "      <td>0</td>\n",
       "      <td>Varies with device</td>\n",
       "      <td>0</td>\n",
       "      <td>NaN</td>\n",
       "      <td>0</td>\n",
       "      <td>Everyone 10+</td>\n",
       "      <td>37</td>\n",
       "      <td>June 28, 2018</td>\n",
       "      <td>Varies with device</td>\n",
       "      <td>Varies with device</td>\n",
       "    </tr>\n",
       "  </tbody>\n",
       "</table>\n",
       "</div>"
      ],
      "text/plain": [
       "                            App  Category  Rating Reviews                Size  \\\n",
       "9148  Command & Conquer: Rivals        18     NaN       0  Varies with device   \n",
       "\n",
       "     Installs Type Price Content Rating  Genres   Last Updated  \\\n",
       "9148        0  NaN     0   Everyone 10+      37  June 28, 2018   \n",
       "\n",
       "             Current Ver         Android Ver  \n",
       "9148  Varies with device  Varies with device  "
      ]
     },
     "execution_count": 23,
     "metadata": {},
     "output_type": "execute_result"
    }
   ],
   "source": [
    "app[pd.isnull(app[\"Type\"])]"
   ]
  },
  {
   "cell_type": "code",
   "execution_count": 24,
   "metadata": {},
   "outputs": [
    {
     "data": {
      "text/plain": [
       "array(['Free', 'Paid', '0'], dtype=object)"
      ]
     },
     "execution_count": 24,
     "metadata": {},
     "output_type": "execute_result"
    }
   ],
   "source": [
    "app[\"Type\"]=app[\"Type\"].fillna(\"Free\")\n",
    "app[\"Type\"].unique()"
   ]
  },
  {
   "cell_type": "code",
   "execution_count": 25,
   "metadata": {},
   "outputs": [
    {
     "data": {
      "text/html": [
       "<div>\n",
       "<style scoped>\n",
       "    .dataframe tbody tr th:only-of-type {\n",
       "        vertical-align: middle;\n",
       "    }\n",
       "\n",
       "    .dataframe tbody tr th {\n",
       "        vertical-align: top;\n",
       "    }\n",
       "\n",
       "    .dataframe thead th {\n",
       "        text-align: right;\n",
       "    }\n",
       "</style>\n",
       "<table border=\"1\" class=\"dataframe\">\n",
       "  <thead>\n",
       "    <tr style=\"text-align: right;\">\n",
       "      <th></th>\n",
       "      <th>App</th>\n",
       "      <th>Category</th>\n",
       "      <th>Rating</th>\n",
       "      <th>Reviews</th>\n",
       "      <th>Size</th>\n",
       "      <th>Installs</th>\n",
       "      <th>Type</th>\n",
       "      <th>Price</th>\n",
       "      <th>Content Rating</th>\n",
       "      <th>Genres</th>\n",
       "      <th>Last Updated</th>\n",
       "      <th>Current Ver</th>\n",
       "      <th>Android Ver</th>\n",
       "    </tr>\n",
       "  </thead>\n",
       "  <tbody>\n",
       "    <tr>\n",
       "      <th>10472</th>\n",
       "      <td>Life Made WI-Fi Touchscreen Photo Frame</td>\n",
       "      <td>25</td>\n",
       "      <td>19.0</td>\n",
       "      <td>3.0M</td>\n",
       "      <td>1,000+</td>\n",
       "      <td>Free</td>\n",
       "      <td>0</td>\n",
       "      <td>Everyone</td>\n",
       "      <td>NaN</td>\n",
       "      <td>118</td>\n",
       "      <td>1.0.19</td>\n",
       "      <td>4.0 and up</td>\n",
       "      <td>NaN</td>\n",
       "    </tr>\n",
       "  </tbody>\n",
       "</table>\n",
       "</div>"
      ],
      "text/plain": [
       "                                           App  Category  Rating Reviews  \\\n",
       "10472  Life Made WI-Fi Touchscreen Photo Frame        25    19.0    3.0M   \n",
       "\n",
       "         Size Installs Type     Price Content Rating  Genres Last Updated  \\\n",
       "10472  1,000+     Free    0  Everyone            NaN     118       1.0.19   \n",
       "\n",
       "      Current Ver Android Ver  \n",
       "10472  4.0 and up         NaN  "
      ]
     },
     "execution_count": 25,
     "metadata": {},
     "output_type": "execute_result"
    }
   ],
   "source": [
    "app[app[\"Type\"]==\"0\"]"
   ]
  },
  {
   "cell_type": "code",
   "execution_count": 26,
   "metadata": {},
   "outputs": [],
   "source": [
    "app[\"Type\"]=app[\"Type\"].replace(\"0\",\"Free\")"
   ]
  },
  {
   "cell_type": "code",
   "execution_count": 27,
   "metadata": {},
   "outputs": [],
   "source": [
    "def change_type(x):\n",
    "    if x==\"Paid\":\n",
    "        return 1\n",
    "    else:\n",
    "        return 0\n",
    "    \n",
    "app['Charge']=app['Type'].apply(change_type)"
   ]
  },
  {
   "cell_type": "code",
   "execution_count": 28,
   "metadata": {},
   "outputs": [
    {
     "data": {
      "text/plain": [
       "array([0, 1], dtype=int64)"
      ]
     },
     "execution_count": 28,
     "metadata": {},
     "output_type": "execute_result"
    }
   ],
   "source": [
    "app[\"Charge\"].unique()"
   ]
  },
  {
   "cell_type": "markdown",
   "metadata": {},
   "source": [
    "#### Content Rating 변수 처리"
   ]
  },
  {
   "cell_type": "code",
   "execution_count": 29,
   "metadata": {},
   "outputs": [
    {
     "data": {
      "text/plain": [
       "array(['Everyone', 'Teen', 'Everyone 10+', 'Mature 17+',\n",
       "       'Adults only 18+', 'Unrated', nan], dtype=object)"
      ]
     },
     "execution_count": 29,
     "metadata": {},
     "output_type": "execute_result"
    }
   ],
   "source": [
    "app[\"Content Rating\"].unique()"
   ]
  },
  {
   "cell_type": "code",
   "execution_count": 30,
   "metadata": {},
   "outputs": [
    {
     "data": {
      "text/html": [
       "<div>\n",
       "<style scoped>\n",
       "    .dataframe tbody tr th:only-of-type {\n",
       "        vertical-align: middle;\n",
       "    }\n",
       "\n",
       "    .dataframe tbody tr th {\n",
       "        vertical-align: top;\n",
       "    }\n",
       "\n",
       "    .dataframe thead th {\n",
       "        text-align: right;\n",
       "    }\n",
       "</style>\n",
       "<table border=\"1\" class=\"dataframe\">\n",
       "  <thead>\n",
       "    <tr style=\"text-align: right;\">\n",
       "      <th></th>\n",
       "      <th>App</th>\n",
       "      <th>Category</th>\n",
       "      <th>Rating</th>\n",
       "      <th>Reviews</th>\n",
       "      <th>Size</th>\n",
       "      <th>Installs</th>\n",
       "      <th>Type</th>\n",
       "      <th>Price</th>\n",
       "      <th>Content Rating</th>\n",
       "      <th>Genres</th>\n",
       "      <th>Last Updated</th>\n",
       "      <th>Current Ver</th>\n",
       "      <th>Android Ver</th>\n",
       "      <th>Charge</th>\n",
       "    </tr>\n",
       "  </thead>\n",
       "  <tbody>\n",
       "    <tr>\n",
       "      <th>10472</th>\n",
       "      <td>Life Made WI-Fi Touchscreen Photo Frame</td>\n",
       "      <td>25</td>\n",
       "      <td>19.0</td>\n",
       "      <td>3.0M</td>\n",
       "      <td>1,000+</td>\n",
       "      <td>Free</td>\n",
       "      <td>Free</td>\n",
       "      <td>Everyone</td>\n",
       "      <td>NaN</td>\n",
       "      <td>118</td>\n",
       "      <td>1.0.19</td>\n",
       "      <td>4.0 and up</td>\n",
       "      <td>NaN</td>\n",
       "      <td>0</td>\n",
       "    </tr>\n",
       "  </tbody>\n",
       "</table>\n",
       "</div>"
      ],
      "text/plain": [
       "                                           App  Category  Rating Reviews  \\\n",
       "10472  Life Made WI-Fi Touchscreen Photo Frame        25    19.0    3.0M   \n",
       "\n",
       "         Size Installs  Type     Price Content Rating  Genres Last Updated  \\\n",
       "10472  1,000+     Free  Free  Everyone            NaN     118       1.0.19   \n",
       "\n",
       "      Current Ver Android Ver  Charge  \n",
       "10472  4.0 and up         NaN       0  "
      ]
     },
     "execution_count": 30,
     "metadata": {},
     "output_type": "execute_result"
    }
   ],
   "source": [
    "app[pd.isnull(app[\"Content Rating\"])]"
   ]
  },
  {
   "cell_type": "code",
   "execution_count": 31,
   "metadata": {},
   "outputs": [
    {
     "data": {
      "text/plain": [
       "array(['Everyone', 'Teen', 'Everyone 10+', 'Mature 17+',\n",
       "       'Adults only 18+', 'Unrated'], dtype=object)"
      ]
     },
     "execution_count": 31,
     "metadata": {},
     "output_type": "execute_result"
    }
   ],
   "source": [
    "app[\"Content Rating\"]=app[\"Content Rating\"].fillna(\"Everyone\")\n",
    "app[\"Content Rating\"].unique()"
   ]
  },
  {
   "cell_type": "code",
   "execution_count": 32,
   "metadata": {},
   "outputs": [
    {
     "data": {
      "text/html": [
       "<div>\n",
       "<style scoped>\n",
       "    .dataframe tbody tr th:only-of-type {\n",
       "        vertical-align: middle;\n",
       "    }\n",
       "\n",
       "    .dataframe tbody tr th {\n",
       "        vertical-align: top;\n",
       "    }\n",
       "\n",
       "    .dataframe thead th {\n",
       "        text-align: right;\n",
       "    }\n",
       "</style>\n",
       "<table border=\"1\" class=\"dataframe\">\n",
       "  <thead>\n",
       "    <tr style=\"text-align: right;\">\n",
       "      <th></th>\n",
       "      <th>App</th>\n",
       "      <th>Category</th>\n",
       "      <th>Rating</th>\n",
       "      <th>Reviews</th>\n",
       "      <th>Size</th>\n",
       "      <th>Installs</th>\n",
       "      <th>Type</th>\n",
       "      <th>Price</th>\n",
       "      <th>Content Rating</th>\n",
       "      <th>Genres</th>\n",
       "      <th>Last Updated</th>\n",
       "      <th>Current Ver</th>\n",
       "      <th>Android Ver</th>\n",
       "      <th>Charge</th>\n",
       "    </tr>\n",
       "  </thead>\n",
       "  <tbody>\n",
       "    <tr>\n",
       "      <th>7312</th>\n",
       "      <td>Best CG Photography</td>\n",
       "      <td>18</td>\n",
       "      <td>NaN</td>\n",
       "      <td>1</td>\n",
       "      <td>2.5M</td>\n",
       "      <td>500+</td>\n",
       "      <td>Free</td>\n",
       "      <td>0</td>\n",
       "      <td>Unrated</td>\n",
       "      <td>19</td>\n",
       "      <td>June 24, 2015</td>\n",
       "      <td>5.2</td>\n",
       "      <td>3.0 and up</td>\n",
       "      <td>0</td>\n",
       "    </tr>\n",
       "    <tr>\n",
       "      <th>8266</th>\n",
       "      <td>DC Universe Online Map</td>\n",
       "      <td>25</td>\n",
       "      <td>4.1</td>\n",
       "      <td>1186</td>\n",
       "      <td>6.4M</td>\n",
       "      <td>50,000+</td>\n",
       "      <td>Free</td>\n",
       "      <td>0</td>\n",
       "      <td>Unrated</td>\n",
       "      <td>91</td>\n",
       "      <td>February 27, 2012</td>\n",
       "      <td>1.3</td>\n",
       "      <td>2.3.3 and up</td>\n",
       "      <td>0</td>\n",
       "    </tr>\n",
       "  </tbody>\n",
       "</table>\n",
       "</div>"
      ],
      "text/plain": [
       "                         App  Category  Rating Reviews  Size Installs  Type  \\\n",
       "7312     Best CG Photography        18     NaN       1  2.5M     500+  Free   \n",
       "8266  DC Universe Online Map        25     4.1    1186  6.4M  50,000+  Free   \n",
       "\n",
       "     Price Content Rating  Genres       Last Updated Current Ver  \\\n",
       "7312     0        Unrated      19      June 24, 2015         5.2   \n",
       "8266     0        Unrated      91  February 27, 2012         1.3   \n",
       "\n",
       "       Android Ver  Charge  \n",
       "7312    3.0 and up       0  \n",
       "8266  2.3.3 and up       0  "
      ]
     },
     "execution_count": 32,
     "metadata": {},
     "output_type": "execute_result"
    }
   ],
   "source": [
    "app[app[\"Content Rating\"]=='Unrated']"
   ]
  },
  {
   "cell_type": "code",
   "execution_count": 33,
   "metadata": {},
   "outputs": [],
   "source": [
    "# 겹치는 항목은 묶어서 카테고리화 진행"
   ]
  },
  {
   "cell_type": "code",
   "execution_count": 34,
   "metadata": {},
   "outputs": [],
   "source": [
    "def change_Age(x):\n",
    "    if x=='Everyone'or x=='Unrated':\n",
    "        return 0\n",
    "    elif x=='Everyone 10+' or x=='Teen':\n",
    "        return 1\n",
    "    else :\n",
    "        return 2\n",
    "    \n",
    "app['Content Rating']=app['Content Rating'].apply(change_Age)"
   ]
  },
  {
   "cell_type": "markdown",
   "metadata": {},
   "source": [
    "#### Installs 변수 처리"
   ]
  },
  {
   "cell_type": "code",
   "execution_count": 35,
   "metadata": {},
   "outputs": [
    {
     "data": {
      "text/plain": [
       "array(['10,000+', '500,000+', '5,000,000+', '50,000,000+', '100,000+',\n",
       "       '50,000+', '1,000,000+', '10,000,000+', '5,000+', '100,000,000+',\n",
       "       '1,000,000,000+', '1,000+', '500,000,000+', '50+', '100+', '500+',\n",
       "       '10+', '1+', '5+', '0+', '0', 'Free'], dtype=object)"
      ]
     },
     "execution_count": 35,
     "metadata": {},
     "output_type": "execute_result"
    }
   ],
   "source": [
    "app[\"Installs\"].unique()"
   ]
  },
  {
   "cell_type": "code",
   "execution_count": 36,
   "metadata": {},
   "outputs": [
    {
     "data": {
      "text/html": [
       "<div>\n",
       "<style scoped>\n",
       "    .dataframe tbody tr th:only-of-type {\n",
       "        vertical-align: middle;\n",
       "    }\n",
       "\n",
       "    .dataframe tbody tr th {\n",
       "        vertical-align: top;\n",
       "    }\n",
       "\n",
       "    .dataframe thead th {\n",
       "        text-align: right;\n",
       "    }\n",
       "</style>\n",
       "<table border=\"1\" class=\"dataframe\">\n",
       "  <thead>\n",
       "    <tr style=\"text-align: right;\">\n",
       "      <th></th>\n",
       "      <th>App</th>\n",
       "      <th>Category</th>\n",
       "      <th>Rating</th>\n",
       "      <th>Reviews</th>\n",
       "      <th>Size</th>\n",
       "      <th>Installs</th>\n",
       "      <th>Type</th>\n",
       "      <th>Price</th>\n",
       "      <th>Content Rating</th>\n",
       "      <th>Genres</th>\n",
       "      <th>Last Updated</th>\n",
       "      <th>Current Ver</th>\n",
       "      <th>Android Ver</th>\n",
       "      <th>Charge</th>\n",
       "    </tr>\n",
       "  </thead>\n",
       "  <tbody>\n",
       "    <tr>\n",
       "      <th>10472</th>\n",
       "      <td>Life Made WI-Fi Touchscreen Photo Frame</td>\n",
       "      <td>25</td>\n",
       "      <td>19.0</td>\n",
       "      <td>3.0M</td>\n",
       "      <td>1,000+</td>\n",
       "      <td>Free</td>\n",
       "      <td>Free</td>\n",
       "      <td>Everyone</td>\n",
       "      <td>0</td>\n",
       "      <td>118</td>\n",
       "      <td>1.0.19</td>\n",
       "      <td>4.0 and up</td>\n",
       "      <td>NaN</td>\n",
       "      <td>0</td>\n",
       "    </tr>\n",
       "  </tbody>\n",
       "</table>\n",
       "</div>"
      ],
      "text/plain": [
       "                                           App  Category  Rating Reviews  \\\n",
       "10472  Life Made WI-Fi Touchscreen Photo Frame        25    19.0    3.0M   \n",
       "\n",
       "         Size Installs  Type     Price  Content Rating  Genres Last Updated  \\\n",
       "10472  1,000+     Free  Free  Everyone               0     118       1.0.19   \n",
       "\n",
       "      Current Ver Android Ver  Charge  \n",
       "10472  4.0 and up         NaN       0  "
      ]
     },
     "execution_count": 36,
     "metadata": {},
     "output_type": "execute_result"
    }
   ],
   "source": [
    "app[app[\"Installs\"]==\"Free\"]"
   ]
  },
  {
   "cell_type": "code",
   "execution_count": 37,
   "metadata": {},
   "outputs": [
    {
     "data": {
      "text/html": [
       "<div>\n",
       "<style scoped>\n",
       "    .dataframe tbody tr th:only-of-type {\n",
       "        vertical-align: middle;\n",
       "    }\n",
       "\n",
       "    .dataframe tbody tr th {\n",
       "        vertical-align: top;\n",
       "    }\n",
       "\n",
       "    .dataframe thead th {\n",
       "        text-align: right;\n",
       "    }\n",
       "</style>\n",
       "<table border=\"1\" class=\"dataframe\">\n",
       "  <thead>\n",
       "    <tr style=\"text-align: right;\">\n",
       "      <th></th>\n",
       "      <th>App</th>\n",
       "      <th>Category</th>\n",
       "      <th>Rating</th>\n",
       "      <th>Reviews</th>\n",
       "      <th>Size</th>\n",
       "      <th>Installs</th>\n",
       "      <th>Type</th>\n",
       "      <th>Price</th>\n",
       "      <th>Content Rating</th>\n",
       "      <th>Genres</th>\n",
       "      <th>Last Updated</th>\n",
       "      <th>Current Ver</th>\n",
       "      <th>Android Ver</th>\n",
       "      <th>Charge</th>\n",
       "    </tr>\n",
       "  </thead>\n",
       "  <tbody>\n",
       "  </tbody>\n",
       "</table>\n",
       "</div>"
      ],
      "text/plain": [
       "Empty DataFrame\n",
       "Columns: [App, Category, Rating, Reviews, Size, Installs, Type, Price, Content Rating, Genres, Last Updated, Current Ver, Android Ver, Charge]\n",
       "Index: []"
      ]
     },
     "execution_count": 37,
     "metadata": {},
     "output_type": "execute_result"
    }
   ],
   "source": [
    "app[\"Installs\"]=app[\"Installs\"].replace(\"Free\",\"1,000+\")\n",
    "app[\"Size\"]=app[\"Size\"].replace(\"1,000+\",\"30M\")\n",
    "app[\"Reviews\"]=app[\"Reviews\"].replace(\"3.0M\",\"0\")\n",
    "app[\"Price\"]=app[\"Price\"].replace(\"Everyone\",\"0\")\n",
    "app[\"Last Updated\"]=app[\"Last Updated\"].replace(\"1.0.19\",\"February 11, 2018\")\n",
    "\n",
    "app[app[\"Installs\"]==\"Free\"]"
   ]
  },
  {
   "cell_type": "code",
   "execution_count": 38,
   "metadata": {},
   "outputs": [
    {
     "data": {
      "text/plain": [
       "1,000,000+        1579\n",
       "10,000,000+       1252\n",
       "100,000+          1169\n",
       "10,000+           1054\n",
       "1,000+             908\n",
       "5,000,000+         752\n",
       "100+               719\n",
       "500,000+           539\n",
       "50,000+            479\n",
       "5,000+             477\n",
       "100,000,000+       409\n",
       "10+                386\n",
       "500+               330\n",
       "50,000,000+        289\n",
       "50+                205\n",
       "5+                  82\n",
       "500,000,000+        72\n",
       "1+                  67\n",
       "1,000,000,000+      58\n",
       "0+                  14\n",
       "0                    1\n",
       "Name: Installs, dtype: int64"
      ]
     },
     "execution_count": 38,
     "metadata": {},
     "output_type": "execute_result"
    }
   ],
   "source": [
    "app[\"Installs\"].value_counts()"
   ]
  },
  {
   "cell_type": "code",
   "execution_count": 39,
   "metadata": {},
   "outputs": [
    {
     "data": {
      "text/html": [
       "<div>\n",
       "<style scoped>\n",
       "    .dataframe tbody tr th:only-of-type {\n",
       "        vertical-align: middle;\n",
       "    }\n",
       "\n",
       "    .dataframe tbody tr th {\n",
       "        vertical-align: top;\n",
       "    }\n",
       "\n",
       "    .dataframe thead th {\n",
       "        text-align: right;\n",
       "    }\n",
       "</style>\n",
       "<table border=\"1\" class=\"dataframe\">\n",
       "  <thead>\n",
       "    <tr style=\"text-align: right;\">\n",
       "      <th></th>\n",
       "      <th>App</th>\n",
       "      <th>Category</th>\n",
       "      <th>Rating</th>\n",
       "      <th>Reviews</th>\n",
       "      <th>Size</th>\n",
       "      <th>Installs</th>\n",
       "      <th>Type</th>\n",
       "      <th>Price</th>\n",
       "      <th>Content Rating</th>\n",
       "      <th>Genres</th>\n",
       "      <th>Last Updated</th>\n",
       "      <th>Current Ver</th>\n",
       "      <th>Android Ver</th>\n",
       "      <th>Charge</th>\n",
       "    </tr>\n",
       "  </thead>\n",
       "  <tbody>\n",
       "    <tr>\n",
       "      <th>9148</th>\n",
       "      <td>Command &amp; Conquer: Rivals</td>\n",
       "      <td>18</td>\n",
       "      <td>NaN</td>\n",
       "      <td>0</td>\n",
       "      <td>Varies with device</td>\n",
       "      <td>0</td>\n",
       "      <td>Free</td>\n",
       "      <td>0</td>\n",
       "      <td>1</td>\n",
       "      <td>37</td>\n",
       "      <td>June 28, 2018</td>\n",
       "      <td>Varies with device</td>\n",
       "      <td>Varies with device</td>\n",
       "      <td>0</td>\n",
       "    </tr>\n",
       "  </tbody>\n",
       "</table>\n",
       "</div>"
      ],
      "text/plain": [
       "                            App  Category  Rating Reviews                Size  \\\n",
       "9148  Command & Conquer: Rivals        18     NaN       0  Varies with device   \n",
       "\n",
       "     Installs  Type Price  Content Rating  Genres   Last Updated  \\\n",
       "9148        0  Free     0               1      37  June 28, 2018   \n",
       "\n",
       "             Current Ver         Android Ver  Charge  \n",
       "9148  Varies with device  Varies with device       0  "
      ]
     },
     "execution_count": 39,
     "metadata": {},
     "output_type": "execute_result"
    }
   ],
   "source": [
    "app[app[\"Installs\"]==\"0\"]"
   ]
  },
  {
   "cell_type": "code",
   "execution_count": 40,
   "metadata": {},
   "outputs": [],
   "source": [
    "Installs_number={'100+':0, '500+':1, '1,000+':2, '5,000+':3, '10,000+':4, '50,000+':5, \n",
    "                 '100,000+':6, '500,000+':7, '1,000,000+':8, '5,000,000+':9, \n",
    "                 '10,000,000+':10, '50,000,000+':11, '100,000,000+':12, '500,000,000+':13, \n",
    "                 '1,000,000,000+':14, '50+':20,'10+':20, '1+':20, '5+':20, '0+':20, '0':20}"
   ]
  },
  {
   "cell_type": "code",
   "execution_count": 41,
   "metadata": {},
   "outputs": [
    {
     "data": {
      "text/plain": [
       "array([ 4,  7,  9, 11,  6,  5,  8, 10,  3, 12, 14,  2, 13, 20,  0,  1],\n",
       "      dtype=int64)"
      ]
     },
     "execution_count": 41,
     "metadata": {},
     "output_type": "execute_result"
    }
   ],
   "source": [
    "app[\"Installs\"]=app[\"Installs\"].map(Installs_number)\n",
    "app[\"Installs\"].unique()"
   ]
  },
  {
   "cell_type": "markdown",
   "metadata": {},
   "source": [
    "#### Reviews 변수 처리"
   ]
  },
  {
   "cell_type": "code",
   "execution_count": 42,
   "metadata": {},
   "outputs": [
    {
     "data": {
      "text/plain": [
       "array(['159', '967', '87510', ..., '603', '1195', '398307'], dtype=object)"
      ]
     },
     "execution_count": 42,
     "metadata": {},
     "output_type": "execute_result"
    }
   ],
   "source": [
    "app[\"Reviews\"].unique()"
   ]
  },
  {
   "cell_type": "code",
   "execution_count": 43,
   "metadata": {},
   "outputs": [
    {
     "data": {
      "text/plain": [
       "array([   159,    967,  87510, ...,    603,   1195, 398307], dtype=int64)"
      ]
     },
     "execution_count": 43,
     "metadata": {},
     "output_type": "execute_result"
    }
   ],
   "source": [
    "app[\"Reviews\"]=pd.to_numeric(app[\"Reviews\"])\n",
    "# app['Reviews'] = app['Reviews'].astype(int)\n",
    "\n",
    "app[\"Reviews\"].unique()"
   ]
  },
  {
   "cell_type": "code",
   "execution_count": 44,
   "metadata": {},
   "outputs": [
    {
     "data": {
      "text/plain": [
       "78158306"
      ]
     },
     "execution_count": 44,
     "metadata": {},
     "output_type": "execute_result"
    }
   ],
   "source": [
    "app[\"Reviews\"].max()"
   ]
  },
  {
   "cell_type": "code",
   "execution_count": 45,
   "metadata": {},
   "outputs": [],
   "source": [
    "# x==0 이면 0\n",
    "# x>0  and x<100 이면 1\n",
    "# x>=100 and x<500 이면 2\n",
    "# x>=500 and x<1000 이면 3\n",
    "# x>=1000 and x<5000 이면 4\n",
    "# x>=5000 and x<10000 이면 5\n",
    "# x>=10000 and x<50000 이면 6\n",
    "#  ... ...\n",
    "# x>=50000000 and x<100000000 이면 13\n",
    "# x>=100000000 and x<500000000 이면 14"
   ]
  },
  {
   "cell_type": "code",
   "execution_count": 46,
   "metadata": {},
   "outputs": [],
   "source": [
    "def change_reviews(x):\n",
    "    for i in range(1,8):\n",
    "        if x==0:\n",
    "            return 0\n",
    "        elif x>0 and x<10*10**i:\n",
    "            return 2*i-1\n",
    "        elif x>10*10**i and x<50*10**i:\n",
    "            return 2*i"
   ]
  },
  {
   "cell_type": "code",
   "execution_count": 47,
   "metadata": {},
   "outputs": [],
   "source": [
    "# Reviews_c 라는 열을 추가 : Reviews를 카테고리 한 값을 넣기\n",
    "# Reviews와 Reviews_c 중 어느것이 더 효과적일지는 분석결과로 확인"
   ]
  },
  {
   "cell_type": "code",
   "execution_count": 48,
   "metadata": {},
   "outputs": [
    {
     "data": {
      "text/plain": [
       "array([ 2,  3,  7,  8,  6,  5,  4,  1, 10,  9, 13, 11, 12,  0],\n",
       "      dtype=int64)"
      ]
     },
     "execution_count": 48,
     "metadata": {},
     "output_type": "execute_result"
    }
   ],
   "source": [
    "app['Reviews_c']=app['Reviews'].apply(change_reviews)\n",
    "app['Reviews_c'].unique()"
   ]
  },
  {
   "cell_type": "markdown",
   "metadata": {},
   "source": [
    "### < 글자 추출 (정규표현식) >"
   ]
  },
  {
   "cell_type": "markdown",
   "metadata": {},
   "source": [
    "#### Price 변수 처리"
   ]
  },
  {
   "cell_type": "code",
   "execution_count": 49,
   "metadata": {},
   "outputs": [
    {
     "data": {
      "text/plain": [
       "array(['0', '$4.99', '$3.99', '$6.99', '$1.49', '$2.99', '$7.99', '$5.99',\n",
       "       '$3.49', '$1.99', '$9.99', '$7.49', '$0.99', '$9.00', '$5.49',\n",
       "       '$10.00', '$24.99', '$11.99', '$79.99', '$16.99', '$14.99',\n",
       "       '$1.00', '$29.99', '$12.99', '$2.49', '$10.99', '$1.50', '$19.99',\n",
       "       '$15.99', '$33.99', '$74.99', '$39.99', '$3.95', '$4.49', '$1.70',\n",
       "       '$8.99', '$2.00', '$3.88', '$25.99', '$399.99', '$17.99',\n",
       "       '$400.00', '$3.02', '$1.76', '$4.84', '$4.77', '$1.61', '$2.50',\n",
       "       '$1.59', '$6.49', '$1.29', '$5.00', '$13.99', '$299.99', '$379.99',\n",
       "       '$37.99', '$18.99', '$389.99', '$19.90', '$8.49', '$1.75',\n",
       "       '$14.00', '$4.85', '$46.99', '$109.99', '$154.99', '$3.08',\n",
       "       '$2.59', '$4.80', '$1.96', '$19.40', '$3.90', '$4.59', '$15.46',\n",
       "       '$3.04', '$4.29', '$2.60', '$3.28', '$4.60', '$28.99', '$2.95',\n",
       "       '$2.90', '$1.97', '$200.00', '$89.99', '$2.56', '$30.99', '$3.61',\n",
       "       '$394.99', '$1.26', '$1.20', '$1.04'], dtype=object)"
      ]
     },
     "execution_count": 49,
     "metadata": {},
     "output_type": "execute_result"
    }
   ],
   "source": [
    "app[\"Price\"].unique()"
   ]
  },
  {
   "cell_type": "code",
   "execution_count": 50,
   "metadata": {},
   "outputs": [],
   "source": [
    "# Price에서 $기호를 제외하고 숫자만 추출 -> 정규표현식 사용"
   ]
  },
  {
   "cell_type": "code",
   "execution_count": 51,
   "metadata": {
    "scrolled": true
   },
   "outputs": [],
   "source": [
    "pick_float=[]\n",
    "pick_float2=[]\n",
    "\n",
    "for i in app[\"Price\"]:\n",
    "    pick_float=re.findall(\"[0-9.]+\",i)\n",
    "    pick_float2+=pick_float"
   ]
  },
  {
   "cell_type": "code",
   "execution_count": 52,
   "metadata": {},
   "outputs": [],
   "source": [
    "pick_float3=pd.Series(pick_float2)\n",
    "pick_float3.unique()\n",
    "\n",
    "app[\"Price\"]=pick_float3\n",
    "app[\"Price\"]=pd.to_numeric(app[\"Price\"])"
   ]
  },
  {
   "cell_type": "code",
   "execution_count": 53,
   "metadata": {},
   "outputs": [],
   "source": [
    "# app['Price'].str.extract('[0-9.]+')astype(float)"
   ]
  },
  {
   "cell_type": "code",
   "execution_count": 54,
   "metadata": {},
   "outputs": [
    {
     "name": "stdout",
     "output_type": "stream",
     "text": [
      "<class 'pandas.core.frame.DataFrame'>\n",
      "RangeIndex: 10841 entries, 0 to 10840\n",
      "Data columns (total 15 columns):\n",
      "App               10841 non-null object\n",
      "Category          10841 non-null int32\n",
      "Rating            9367 non-null float64\n",
      "Reviews           10841 non-null int64\n",
      "Size              10841 non-null object\n",
      "Installs          10841 non-null int64\n",
      "Type              10841 non-null object\n",
      "Price             10841 non-null float64\n",
      "Content Rating    10841 non-null int64\n",
      "Genres            10841 non-null int32\n",
      "Last Updated      10841 non-null object\n",
      "Current Ver       10833 non-null object\n",
      "Android Ver       10838 non-null object\n",
      "Charge            10841 non-null int64\n",
      "Reviews_c         10841 non-null int64\n",
      "dtypes: float64(2), int32(2), int64(5), object(6)\n",
      "memory usage: 1.2+ MB\n"
     ]
    }
   ],
   "source": [
    "app.info()"
   ]
  },
  {
   "cell_type": "markdown",
   "metadata": {},
   "source": [
    "#### Size 변수 처리"
   ]
  },
  {
   "cell_type": "code",
   "execution_count": 55,
   "metadata": {},
   "outputs": [],
   "source": [
    "# app.Size.unique()"
   ]
  },
  {
   "cell_type": "code",
   "execution_count": 56,
   "metadata": {
    "scrolled": true
   },
   "outputs": [],
   "source": [
    "# app[app[\"Size\"]==\"Varies with device\"]"
   ]
  },
  {
   "cell_type": "code",
   "execution_count": 57,
   "metadata": {},
   "outputs": [],
   "source": [
    "# Varies with device 값은 수정이 불가능하므로 Nan으로 처리 후 대체"
   ]
  },
  {
   "cell_type": "code",
   "execution_count": 58,
   "metadata": {},
   "outputs": [],
   "source": [
    "def size_change(x):\n",
    "    if 'M' in x:\n",
    "        a=x[:-1]\n",
    "        b=float(a)*1000000         # M(bit)= 1000000bit\n",
    "        return(b)\n",
    "    elif \"k\" in x:\n",
    "        a=x[:-1]\n",
    "        b=float(a)*1000            # k(bit)= 1000bit\n",
    "        return(b)\n",
    "    else:\n",
    "        return None"
   ]
  },
  {
   "cell_type": "code",
   "execution_count": 59,
   "metadata": {},
   "outputs": [],
   "source": [
    "app[\"Size\"]=app[\"Size\"].map(size_change)"
   ]
  },
  {
   "cell_type": "code",
   "execution_count": 60,
   "metadata": {},
   "outputs": [
    {
     "data": {
      "text/plain": [
       "0    19000000.0\n",
       "1    14000000.0\n",
       "2     8700000.0\n",
       "3    25000000.0\n",
       "4     2800000.0\n",
       "Name: Size, dtype: float64"
      ]
     },
     "execution_count": 60,
     "metadata": {},
     "output_type": "execute_result"
    }
   ],
   "source": [
    "app[\"Size\"].head()"
   ]
  },
  {
   "cell_type": "code",
   "execution_count": 61,
   "metadata": {},
   "outputs": [],
   "source": [
    "app[\"Size\"].fillna(method = 'ffill', inplace = True) "
   ]
  },
  {
   "cell_type": "code",
   "execution_count": 62,
   "metadata": {},
   "outputs": [],
   "source": [
    "# method = 'ffill' : 결측값을 직전 값으로 대체"
   ]
  },
  {
   "cell_type": "code",
   "execution_count": 63,
   "metadata": {},
   "outputs": [
    {
     "data": {
      "text/plain": [
       "0"
      ]
     },
     "execution_count": 63,
     "metadata": {},
     "output_type": "execute_result"
    }
   ],
   "source": [
    "app[\"Size\"].isnull().sum()"
   ]
  },
  {
   "cell_type": "markdown",
   "metadata": {},
   "source": [
    "#### Last Updated 변수 처리"
   ]
  },
  {
   "cell_type": "code",
   "execution_count": 64,
   "metadata": {},
   "outputs": [
    {
     "data": {
      "text/plain": [
       "array(['January 7, 2018', 'January 15, 2018', 'August 1, 2018', ...,\n",
       "       'January 20, 2014', 'February 16, 2014', 'March 23, 2014'],\n",
       "      dtype=object)"
      ]
     },
     "execution_count": 64,
     "metadata": {},
     "output_type": "execute_result"
    }
   ],
   "source": [
    "app[\"Last Updated\"].unique()"
   ]
  },
  {
   "cell_type": "code",
   "execution_count": 65,
   "metadata": {},
   "outputs": [],
   "source": [
    "import datetime"
   ]
  },
  {
   "cell_type": "code",
   "execution_count": 66,
   "metadata": {},
   "outputs": [],
   "source": [
    "# \"Last Updated\" 열을 datetime으로 Type 변환 해주는 작업"
   ]
  },
  {
   "cell_type": "code",
   "execution_count": 67,
   "metadata": {},
   "outputs": [
    {
     "data": {
      "text/plain": [
       "array(['2018-01-07T00:00:00.000000000', '2018-01-15T00:00:00.000000000',\n",
       "       '2018-08-01T00:00:00.000000000', ...,\n",
       "       '2014-01-20T00:00:00.000000000', '2014-02-16T00:00:00.000000000',\n",
       "       '2014-03-23T00:00:00.000000000'], dtype='datetime64[ns]')"
      ]
     },
     "execution_count": 67,
     "metadata": {},
     "output_type": "execute_result"
    }
   ],
   "source": [
    "pick_date=[]\n",
    "pick_date2=[]\n",
    "\n",
    "for i in range(0,10841):\n",
    "    pick_date=datetime.datetime.strptime(app[\"Last Updated\"][i],\"%B %d, %Y\")\n",
    "    pick_date2.append(pick_date)\n",
    "    \n",
    "# print(pick_date2)\n",
    "\n",
    "pick_date3=pd.Series(pick_date2)\n",
    "pick_date3.unique()\n",
    "\n",
    "app[\"Last Updated\"]=pick_date3\n",
    "app[\"Last Updated\"].unique()"
   ]
  },
  {
   "cell_type": "code",
   "execution_count": 68,
   "metadata": {},
   "outputs": [],
   "source": [
    "# datetime 특성을 이용하여 날짜 계산 ( 기준 날짜 - 업데이트 날짜 )"
   ]
  },
  {
   "cell_type": "code",
   "execution_count": 69,
   "metadata": {
    "scrolled": true
   },
   "outputs": [
    {
     "data": {
      "text/plain": [
       "datetime.timedelta(1805)"
      ]
     },
     "execution_count": 69,
     "metadata": {},
     "output_type": "execute_result"
    }
   ],
   "source": [
    "a=datetime.datetime.strptime(\"December 30, 2018\",\"%B %d, %Y\")\n",
    "b=datetime.datetime.strptime(\"January 20, 2014\",\"%B %d, %Y\")\n",
    "a-b"
   ]
  },
  {
   "cell_type": "code",
   "execution_count": 70,
   "metadata": {},
   "outputs": [],
   "source": [
    "app[\"UpdateTerm\"]=app[\"Last Updated\"]"
   ]
  },
  {
   "cell_type": "code",
   "execution_count": 71,
   "metadata": {},
   "outputs": [],
   "source": [
    "# 기준이 되는 날짜는 임의 x 로 지정"
   ]
  },
  {
   "cell_type": "code",
   "execution_count": 72,
   "metadata": {},
   "outputs": [],
   "source": [
    "x=datetime.datetime.strptime(\"December 30, 2018\",\"%B %d, %Y\")\n",
    "\n",
    "pick_diff=[]\n",
    "pick_diff2=[]\n",
    "\n",
    "for i in range(0,10841):\n",
    "    pick_diff= x - app[\"Last Updated\"][i]\n",
    "    pick_diff2.append(pick_diff)\n",
    "    \n",
    "# print(pick_diff2)"
   ]
  },
  {
   "cell_type": "code",
   "execution_count": 73,
   "metadata": {},
   "outputs": [],
   "source": [
    "# 계산된 값에서 day의 수치 값만 추출"
   ]
  },
  {
   "cell_type": "code",
   "execution_count": 74,
   "metadata": {
    "scrolled": true
   },
   "outputs": [
    {
     "data": {
      "text/plain": [
       "357"
      ]
     },
     "execution_count": 74,
     "metadata": {},
     "output_type": "execute_result"
    }
   ],
   "source": [
    "pick_diff2=pd.Series(pick_diff2)\n",
    "pick_diff2[0].days"
   ]
  },
  {
   "cell_type": "code",
   "execution_count": 75,
   "metadata": {},
   "outputs": [],
   "source": [
    "pick_day=[]\n",
    "pick_day2=[]\n",
    "\n",
    "for i in range(0,10841):\n",
    "    pick_day=pick_diff2[i].days\n",
    "    pick_day2.append(pick_day)\n",
    "    \n",
    "pick_day3=pd.Series(pick_day2)\n",
    "pick_day3.unique()\n",
    "# print(pick_day3)\n",
    "\n",
    "app[\"UpdateTerm\"]=pick_day3"
   ]
  },
  {
   "cell_type": "code",
   "execution_count": 76,
   "metadata": {},
   "outputs": [
    {
     "data": {
      "text/html": [
       "<div>\n",
       "<style scoped>\n",
       "    .dataframe tbody tr th:only-of-type {\n",
       "        vertical-align: middle;\n",
       "    }\n",
       "\n",
       "    .dataframe tbody tr th {\n",
       "        vertical-align: top;\n",
       "    }\n",
       "\n",
       "    .dataframe thead th {\n",
       "        text-align: right;\n",
       "    }\n",
       "</style>\n",
       "<table border=\"1\" class=\"dataframe\">\n",
       "  <thead>\n",
       "    <tr style=\"text-align: right;\">\n",
       "      <th></th>\n",
       "      <th>App</th>\n",
       "      <th>Category</th>\n",
       "      <th>Rating</th>\n",
       "      <th>Reviews</th>\n",
       "      <th>Size</th>\n",
       "      <th>Installs</th>\n",
       "      <th>Type</th>\n",
       "      <th>Price</th>\n",
       "      <th>Content Rating</th>\n",
       "      <th>Genres</th>\n",
       "      <th>Last Updated</th>\n",
       "      <th>Current Ver</th>\n",
       "      <th>Android Ver</th>\n",
       "      <th>Charge</th>\n",
       "      <th>Reviews_c</th>\n",
       "      <th>UpdateTerm</th>\n",
       "    </tr>\n",
       "  </thead>\n",
       "  <tbody>\n",
       "    <tr>\n",
       "      <th>0</th>\n",
       "      <td>Photo Editor &amp; Candy Camera &amp; Grid &amp; ScrapBook</td>\n",
       "      <td>0</td>\n",
       "      <td>4.1</td>\n",
       "      <td>159</td>\n",
       "      <td>19000000.0</td>\n",
       "      <td>4</td>\n",
       "      <td>Free</td>\n",
       "      <td>0.0</td>\n",
       "      <td>0</td>\n",
       "      <td>0</td>\n",
       "      <td>2018-01-07</td>\n",
       "      <td>1.0.0</td>\n",
       "      <td>4.0.3 and up</td>\n",
       "      <td>0</td>\n",
       "      <td>2</td>\n",
       "      <td>357</td>\n",
       "    </tr>\n",
       "    <tr>\n",
       "      <th>1</th>\n",
       "      <td>Coloring book moana</td>\n",
       "      <td>0</td>\n",
       "      <td>3.9</td>\n",
       "      <td>967</td>\n",
       "      <td>14000000.0</td>\n",
       "      <td>7</td>\n",
       "      <td>Free</td>\n",
       "      <td>0.0</td>\n",
       "      <td>0</td>\n",
       "      <td>1</td>\n",
       "      <td>2018-01-15</td>\n",
       "      <td>2.0.0</td>\n",
       "      <td>4.0.3 and up</td>\n",
       "      <td>0</td>\n",
       "      <td>3</td>\n",
       "      <td>349</td>\n",
       "    </tr>\n",
       "  </tbody>\n",
       "</table>\n",
       "</div>"
      ],
      "text/plain": [
       "                                              App  Category  Rating  Reviews  \\\n",
       "0  Photo Editor & Candy Camera & Grid & ScrapBook         0     4.1      159   \n",
       "1                             Coloring book moana         0     3.9      967   \n",
       "\n",
       "         Size  Installs  Type  Price  Content Rating  Genres Last Updated  \\\n",
       "0  19000000.0         4  Free    0.0               0       0   2018-01-07   \n",
       "1  14000000.0         7  Free    0.0               0       1   2018-01-15   \n",
       "\n",
       "  Current Ver   Android Ver  Charge  Reviews_c  UpdateTerm  \n",
       "0       1.0.0  4.0.3 and up       0          2         357  \n",
       "1       2.0.0  4.0.3 and up       0          3         349  "
      ]
     },
     "execution_count": 76,
     "metadata": {},
     "output_type": "execute_result"
    }
   ],
   "source": [
    "app.head(2)"
   ]
  },
  {
   "cell_type": "markdown",
   "metadata": {},
   "source": [
    "#### App 변수 처리"
   ]
  },
  {
   "cell_type": "code",
   "execution_count": 77,
   "metadata": {},
   "outputs": [],
   "source": [
    "# App 이름에 담긴 내용은 Category 또는 Genres 와 유사함\n",
    "# App 이름의 길이가 Rating과 연관이 있을 것으로 예상됨"
   ]
  },
  {
   "cell_type": "code",
   "execution_count": 78,
   "metadata": {},
   "outputs": [],
   "source": [
    "def count_x(x):\n",
    "    return len(x)\n",
    "    \n",
    "app[\"NameLen\"]=app[\"App\"].apply(count_x)"
   ]
  },
  {
   "cell_type": "markdown",
   "metadata": {},
   "source": [
    "#### Rating 변수 처리"
   ]
  },
  {
   "cell_type": "code",
   "execution_count": 79,
   "metadata": {},
   "outputs": [
    {
     "data": {
      "text/html": [
       "<div>\n",
       "<style scoped>\n",
       "    .dataframe tbody tr th:only-of-type {\n",
       "        vertical-align: middle;\n",
       "    }\n",
       "\n",
       "    .dataframe tbody tr th {\n",
       "        vertical-align: top;\n",
       "    }\n",
       "\n",
       "    .dataframe thead th {\n",
       "        text-align: right;\n",
       "    }\n",
       "</style>\n",
       "<table border=\"1\" class=\"dataframe\">\n",
       "  <thead>\n",
       "    <tr style=\"text-align: right;\">\n",
       "      <th></th>\n",
       "      <th>App</th>\n",
       "      <th>Category</th>\n",
       "      <th>Rating</th>\n",
       "      <th>Reviews</th>\n",
       "      <th>Size</th>\n",
       "      <th>Installs</th>\n",
       "      <th>Type</th>\n",
       "      <th>Price</th>\n",
       "      <th>Content Rating</th>\n",
       "      <th>Genres</th>\n",
       "      <th>Last Updated</th>\n",
       "      <th>Current Ver</th>\n",
       "      <th>Android Ver</th>\n",
       "      <th>Charge</th>\n",
       "      <th>Reviews_c</th>\n",
       "      <th>UpdateTerm</th>\n",
       "      <th>NameLen</th>\n",
       "    </tr>\n",
       "  </thead>\n",
       "  <tbody>\n",
       "    <tr>\n",
       "      <th>10472</th>\n",
       "      <td>Life Made WI-Fi Touchscreen Photo Frame</td>\n",
       "      <td>25</td>\n",
       "      <td>19.0</td>\n",
       "      <td>0</td>\n",
       "      <td>30000000.0</td>\n",
       "      <td>2</td>\n",
       "      <td>Free</td>\n",
       "      <td>0.0</td>\n",
       "      <td>0</td>\n",
       "      <td>118</td>\n",
       "      <td>2018-02-11</td>\n",
       "      <td>4.0 and up</td>\n",
       "      <td>NaN</td>\n",
       "      <td>0</td>\n",
       "      <td>0</td>\n",
       "      <td>322</td>\n",
       "      <td>39</td>\n",
       "    </tr>\n",
       "  </tbody>\n",
       "</table>\n",
       "</div>"
      ],
      "text/plain": [
       "                                           App  Category  Rating  Reviews  \\\n",
       "10472  Life Made WI-Fi Touchscreen Photo Frame        25    19.0        0   \n",
       "\n",
       "             Size  Installs  Type  Price  Content Rating  Genres Last Updated  \\\n",
       "10472  30000000.0         2  Free    0.0               0     118   2018-02-11   \n",
       "\n",
       "      Current Ver Android Ver  Charge  Reviews_c  UpdateTerm  NameLen  \n",
       "10472  4.0 and up         NaN       0          0         322       39  "
      ]
     },
     "execution_count": 79,
     "metadata": {},
     "output_type": "execute_result"
    }
   ],
   "source": [
    "app[app[\"Rating\"]>5]"
   ]
  },
  {
   "cell_type": "code",
   "execution_count": 80,
   "metadata": {},
   "outputs": [],
   "source": [
    "app=app.drop(10472,0)    #Rating 값을 예측할 수 는 없으므로 과감히 삭제"
   ]
  },
  {
   "cell_type": "code",
   "execution_count": 81,
   "metadata": {},
   "outputs": [
    {
     "data": {
      "text/html": [
       "<div>\n",
       "<style scoped>\n",
       "    .dataframe tbody tr th:only-of-type {\n",
       "        vertical-align: middle;\n",
       "    }\n",
       "\n",
       "    .dataframe tbody tr th {\n",
       "        vertical-align: top;\n",
       "    }\n",
       "\n",
       "    .dataframe thead th {\n",
       "        text-align: right;\n",
       "    }\n",
       "</style>\n",
       "<table border=\"1\" class=\"dataframe\">\n",
       "  <thead>\n",
       "    <tr style=\"text-align: right;\">\n",
       "      <th></th>\n",
       "      <th>App</th>\n",
       "      <th>Category</th>\n",
       "      <th>Rating</th>\n",
       "      <th>Reviews</th>\n",
       "      <th>Size</th>\n",
       "      <th>Installs</th>\n",
       "      <th>Type</th>\n",
       "      <th>Price</th>\n",
       "      <th>Content Rating</th>\n",
       "      <th>Genres</th>\n",
       "      <th>Last Updated</th>\n",
       "      <th>Current Ver</th>\n",
       "      <th>Android Ver</th>\n",
       "      <th>Charge</th>\n",
       "      <th>Reviews_c</th>\n",
       "      <th>UpdateTerm</th>\n",
       "      <th>NameLen</th>\n",
       "    </tr>\n",
       "  </thead>\n",
       "  <tbody>\n",
       "  </tbody>\n",
       "</table>\n",
       "</div>"
      ],
      "text/plain": [
       "Empty DataFrame\n",
       "Columns: [App, Category, Rating, Reviews, Size, Installs, Type, Price, Content Rating, Genres, Last Updated, Current Ver, Android Ver, Charge, Reviews_c, UpdateTerm, NameLen]\n",
       "Index: []"
      ]
     },
     "execution_count": 81,
     "metadata": {},
     "output_type": "execute_result"
    }
   ],
   "source": [
    "app[app[\"Rating\"]>5 ]"
   ]
  },
  {
   "cell_type": "markdown",
   "metadata": {},
   "source": [
    "### < 변수 정리하기 >"
   ]
  },
  {
   "cell_type": "code",
   "execution_count": 82,
   "metadata": {},
   "outputs": [],
   "source": [
    "app[\"RecomendAge\"]=app[\"Content Rating\"]\n",
    "\n",
    "app=app.drop([\"Content Rating\",\"Last Updated\",\"Current Ver\",\"Android Ver\",\"Type\",\"App\"],axis=1)"
   ]
  },
  {
   "cell_type": "code",
   "execution_count": 83,
   "metadata": {},
   "outputs": [],
   "source": [
    "app = app[app[\"Installs\"] != 20] #표본수가 작은 데이터 삭제"
   ]
  },
  {
   "cell_type": "code",
   "execution_count": 84,
   "metadata": {},
   "outputs": [
    {
     "name": "stdout",
     "output_type": "stream",
     "text": [
      "<class 'pandas.core.frame.DataFrame'>\n",
      "Int64Index: 10085 entries, 0 to 10840\n",
      "Data columns (total 12 columns):\n",
      "Category       10085 non-null int32\n",
      "Rating         9229 non-null float64\n",
      "Reviews        10085 non-null int64\n",
      "Size           10085 non-null float64\n",
      "Installs       10085 non-null int64\n",
      "Price          10085 non-null float64\n",
      "Genres         10085 non-null int32\n",
      "Charge         10085 non-null int64\n",
      "Reviews_c      10085 non-null int64\n",
      "UpdateTerm     10085 non-null int64\n",
      "NameLen        10085 non-null int64\n",
      "RecomendAge    10085 non-null int64\n",
      "dtypes: float64(3), int32(2), int64(7)\n",
      "memory usage: 945.5 KB\n"
     ]
    }
   ],
   "source": [
    "app.info()"
   ]
  },
  {
   "cell_type": "code",
   "execution_count": 85,
   "metadata": {},
   "outputs": [],
   "source": [
    "# 열 순서 정렬"
   ]
  },
  {
   "cell_type": "code",
   "execution_count": 86,
   "metadata": {},
   "outputs": [],
   "source": [
    "app=pd.DataFrame(app,columns=[\"NameLen\",\"Category\",'Genres',\"RecomendAge\",\"Charge\",\"Price\",\"UpdateTerm\",\"Size\",\"Installs\",\"Reviews\",\"Reviews_c\",\"Rating\"])"
   ]
  },
  {
   "cell_type": "code",
   "execution_count": 87,
   "metadata": {},
   "outputs": [
    {
     "data": {
      "text/html": [
       "<div>\n",
       "<style scoped>\n",
       "    .dataframe tbody tr th:only-of-type {\n",
       "        vertical-align: middle;\n",
       "    }\n",
       "\n",
       "    .dataframe tbody tr th {\n",
       "        vertical-align: top;\n",
       "    }\n",
       "\n",
       "    .dataframe thead th {\n",
       "        text-align: right;\n",
       "    }\n",
       "</style>\n",
       "<table border=\"1\" class=\"dataframe\">\n",
       "  <thead>\n",
       "    <tr style=\"text-align: right;\">\n",
       "      <th></th>\n",
       "      <th>NameLen</th>\n",
       "      <th>Category</th>\n",
       "      <th>Genres</th>\n",
       "      <th>RecomendAge</th>\n",
       "      <th>Charge</th>\n",
       "      <th>Price</th>\n",
       "      <th>UpdateTerm</th>\n",
       "      <th>Size</th>\n",
       "      <th>Installs</th>\n",
       "      <th>Reviews</th>\n",
       "      <th>Reviews_c</th>\n",
       "      <th>Rating</th>\n",
       "    </tr>\n",
       "  </thead>\n",
       "  <tbody>\n",
       "    <tr>\n",
       "      <th>10836</th>\n",
       "      <td>16</td>\n",
       "      <td>18</td>\n",
       "      <td>13</td>\n",
       "      <td>0</td>\n",
       "      <td>0</td>\n",
       "      <td>0.0</td>\n",
       "      <td>523</td>\n",
       "      <td>53000000.0</td>\n",
       "      <td>3</td>\n",
       "      <td>38</td>\n",
       "      <td>1</td>\n",
       "      <td>4.5</td>\n",
       "    </tr>\n",
       "    <tr>\n",
       "      <th>10837</th>\n",
       "      <td>32</td>\n",
       "      <td>18</td>\n",
       "      <td>13</td>\n",
       "      <td>0</td>\n",
       "      <td>0</td>\n",
       "      <td>0.0</td>\n",
       "      <td>177</td>\n",
       "      <td>3600000.0</td>\n",
       "      <td>0</td>\n",
       "      <td>4</td>\n",
       "      <td>1</td>\n",
       "      <td>5.0</td>\n",
       "    </tr>\n",
       "    <tr>\n",
       "      <th>10838</th>\n",
       "      <td>22</td>\n",
       "      <td>19</td>\n",
       "      <td>85</td>\n",
       "      <td>0</td>\n",
       "      <td>0</td>\n",
       "      <td>0.0</td>\n",
       "      <td>709</td>\n",
       "      <td>9500000.0</td>\n",
       "      <td>2</td>\n",
       "      <td>3</td>\n",
       "      <td>1</td>\n",
       "      <td>NaN</td>\n",
       "    </tr>\n",
       "    <tr>\n",
       "      <th>10839</th>\n",
       "      <td>29</td>\n",
       "      <td>3</td>\n",
       "      <td>6</td>\n",
       "      <td>2</td>\n",
       "      <td>0</td>\n",
       "      <td>0.0</td>\n",
       "      <td>1441</td>\n",
       "      <td>9500000.0</td>\n",
       "      <td>2</td>\n",
       "      <td>114</td>\n",
       "      <td>2</td>\n",
       "      <td>4.5</td>\n",
       "    </tr>\n",
       "    <tr>\n",
       "      <th>10840</th>\n",
       "      <td>45</td>\n",
       "      <td>16</td>\n",
       "      <td>29</td>\n",
       "      <td>0</td>\n",
       "      <td>0</td>\n",
       "      <td>0.0</td>\n",
       "      <td>158</td>\n",
       "      <td>19000000.0</td>\n",
       "      <td>10</td>\n",
       "      <td>398307</td>\n",
       "      <td>8</td>\n",
       "      <td>4.5</td>\n",
       "    </tr>\n",
       "  </tbody>\n",
       "</table>\n",
       "</div>"
      ],
      "text/plain": [
       "       NameLen  Category  Genres  RecomendAge  Charge  Price  UpdateTerm  \\\n",
       "10836       16        18      13            0       0    0.0         523   \n",
       "10837       32        18      13            0       0    0.0         177   \n",
       "10838       22        19      85            0       0    0.0         709   \n",
       "10839       29         3       6            2       0    0.0        1441   \n",
       "10840       45        16      29            0       0    0.0         158   \n",
       "\n",
       "             Size  Installs  Reviews  Reviews_c  Rating  \n",
       "10836  53000000.0         3       38          1     4.5  \n",
       "10837   3600000.0         0        4          1     5.0  \n",
       "10838   9500000.0         2        3          1     NaN  \n",
       "10839   9500000.0         2      114          2     4.5  \n",
       "10840  19000000.0        10   398307          8     4.5  "
      ]
     },
     "execution_count": 87,
     "metadata": {},
     "output_type": "execute_result"
    }
   ],
   "source": [
    "app.tail()"
   ]
  },
  {
   "cell_type": "markdown",
   "metadata": {},
   "source": [
    "#### test용 데이터 분리 (Rating 값이 NAN인 자료)"
   ]
  },
  {
   "cell_type": "code",
   "execution_count": 88,
   "metadata": {},
   "outputs": [],
   "source": [
    "import warnings\n",
    "warnings.filterwarnings(\"ignore\") "
   ]
  },
  {
   "cell_type": "code",
   "execution_count": 89,
   "metadata": {},
   "outputs": [],
   "source": [
    "# Rating 값이 없는 데이터는 test용 데이터로 분리"
   ]
  },
  {
   "cell_type": "code",
   "execution_count": 90,
   "metadata": {},
   "outputs": [],
   "source": [
    "app_test=app[pd.isnull(app[\"Rating\"])]\n",
    "app_test.drop(\"Rating\", axis=1,inplace=True)\n",
    "\n",
    "app=app[pd.isnull(app[\"Rating\"])==False]"
   ]
  },
  {
   "cell_type": "code",
   "execution_count": 91,
   "metadata": {},
   "outputs": [
    {
     "name": "stdout",
     "output_type": "stream",
     "text": [
      "<class 'pandas.core.frame.DataFrame'>\n",
      "Int64Index: 856 entries, 23 to 10838\n",
      "Data columns (total 11 columns):\n",
      "NameLen        856 non-null int64\n",
      "Category       856 non-null int32\n",
      "Genres         856 non-null int32\n",
      "RecomendAge    856 non-null int64\n",
      "Charge         856 non-null int64\n",
      "Price          856 non-null float64\n",
      "UpdateTerm     856 non-null int64\n",
      "Size           856 non-null float64\n",
      "Installs       856 non-null int64\n",
      "Reviews        856 non-null int64\n",
      "Reviews_c      856 non-null int64\n",
      "dtypes: float64(2), int32(2), int64(7)\n",
      "memory usage: 73.6 KB\n",
      "None\n",
      "==================================================\n",
      "<class 'pandas.core.frame.DataFrame'>\n",
      "Int64Index: 9229 entries, 0 to 10840\n",
      "Data columns (total 12 columns):\n",
      "NameLen        9229 non-null int64\n",
      "Category       9229 non-null int32\n",
      "Genres         9229 non-null int32\n",
      "RecomendAge    9229 non-null int64\n",
      "Charge         9229 non-null int64\n",
      "Price          9229 non-null float64\n",
      "UpdateTerm     9229 non-null int64\n",
      "Size           9229 non-null float64\n",
      "Installs       9229 non-null int64\n",
      "Reviews        9229 non-null int64\n",
      "Reviews_c      9229 non-null int64\n",
      "Rating         9229 non-null float64\n",
      "dtypes: float64(3), int32(2), int64(7)\n",
      "memory usage: 865.2 KB\n",
      "None\n"
     ]
    }
   ],
   "source": [
    "print(app_test.info())\n",
    "print(\"=\"*50)\n",
    "print(app.info())"
   ]
  },
  {
   "cell_type": "markdown",
   "metadata": {},
   "source": [
    "## 2. 데이터 분석"
   ]
  },
  {
   "cell_type": "code",
   "execution_count": 92,
   "metadata": {},
   "outputs": [
    {
     "data": {
      "text/plain": [
       "(9229, 12)"
      ]
     },
     "execution_count": 92,
     "metadata": {},
     "output_type": "execute_result"
    }
   ],
   "source": [
    "app.shape"
   ]
  },
  {
   "cell_type": "code",
   "execution_count": 93,
   "metadata": {},
   "outputs": [
    {
     "data": {
      "text/html": [
       "<div>\n",
       "<style scoped>\n",
       "    .dataframe tbody tr th:only-of-type {\n",
       "        vertical-align: middle;\n",
       "    }\n",
       "\n",
       "    .dataframe tbody tr th {\n",
       "        vertical-align: top;\n",
       "    }\n",
       "\n",
       "    .dataframe thead th {\n",
       "        text-align: right;\n",
       "    }\n",
       "</style>\n",
       "<table border=\"1\" class=\"dataframe\">\n",
       "  <thead>\n",
       "    <tr style=\"text-align: right;\">\n",
       "      <th></th>\n",
       "      <th>NameLen</th>\n",
       "      <th>Category</th>\n",
       "      <th>Genres</th>\n",
       "      <th>RecomendAge</th>\n",
       "      <th>Charge</th>\n",
       "      <th>Price</th>\n",
       "      <th>UpdateTerm</th>\n",
       "      <th>Size</th>\n",
       "      <th>Installs</th>\n",
       "      <th>Reviews</th>\n",
       "      <th>Reviews_c</th>\n",
       "      <th>Rating</th>\n",
       "    </tr>\n",
       "  </thead>\n",
       "  <tbody>\n",
       "    <tr>\n",
       "      <th>count</th>\n",
       "      <td>9229.000000</td>\n",
       "      <td>9229.000000</td>\n",
       "      <td>9229.000000</td>\n",
       "      <td>9229.000000</td>\n",
       "      <td>9229.000000</td>\n",
       "      <td>9229.000000</td>\n",
       "      <td>9229.000000</td>\n",
       "      <td>9.229000e+03</td>\n",
       "      <td>9229.000000</td>\n",
       "      <td>9.229000e+03</td>\n",
       "      <td>9229.000000</td>\n",
       "      <td>9229.000000</td>\n",
       "    </tr>\n",
       "    <tr>\n",
       "      <th>mean</th>\n",
       "      <td>23.306642</td>\n",
       "      <td>17.786326</td>\n",
       "      <td>50.849496</td>\n",
       "      <td>0.259291</td>\n",
       "      <td>0.066421</td>\n",
       "      <td>0.960430</td>\n",
       "      <td>394.544479</td>\n",
       "      <td>2.320426e+07</td>\n",
       "      <td>6.685773</td>\n",
       "      <td>5.216806e+05</td>\n",
       "      <td>4.880485</td>\n",
       "      <td>4.186467</td>\n",
       "    </tr>\n",
       "    <tr>\n",
       "      <th>std</th>\n",
       "      <td>12.453695</td>\n",
       "      <td>7.340255</td>\n",
       "      <td>34.111895</td>\n",
       "      <td>0.540364</td>\n",
       "      <td>0.249030</td>\n",
       "      <td>15.927958</td>\n",
       "      <td>395.551312</td>\n",
       "      <td>2.327035e+07</td>\n",
       "      <td>3.199188</td>\n",
       "      <td>3.166666e+06</td>\n",
       "      <td>2.981688</td>\n",
       "      <td>0.504563</td>\n",
       "    </tr>\n",
       "    <tr>\n",
       "      <th>min</th>\n",
       "      <td>1.000000</td>\n",
       "      <td>0.000000</td>\n",
       "      <td>0.000000</td>\n",
       "      <td>0.000000</td>\n",
       "      <td>0.000000</td>\n",
       "      <td>0.000000</td>\n",
       "      <td>144.000000</td>\n",
       "      <td>8.500000e+03</td>\n",
       "      <td>0.000000</td>\n",
       "      <td>1.000000e+00</td>\n",
       "      <td>1.000000</td>\n",
       "      <td>1.000000</td>\n",
       "    </tr>\n",
       "    <tr>\n",
       "      <th>25%</th>\n",
       "      <td>14.000000</td>\n",
       "      <td>14.000000</td>\n",
       "      <td>20.000000</td>\n",
       "      <td>0.000000</td>\n",
       "      <td>0.000000</td>\n",
       "      <td>0.000000</td>\n",
       "      <td>159.000000</td>\n",
       "      <td>5.600000e+06</td>\n",
       "      <td>4.000000</td>\n",
       "      <td>2.130000e+02</td>\n",
       "      <td>2.000000</td>\n",
       "      <td>4.000000</td>\n",
       "    </tr>\n",
       "    <tr>\n",
       "      <th>50%</th>\n",
       "      <td>22.000000</td>\n",
       "      <td>18.000000</td>\n",
       "      <td>39.000000</td>\n",
       "      <td>0.000000</td>\n",
       "      <td>0.000000</td>\n",
       "      <td>0.000000</td>\n",
       "      <td>210.000000</td>\n",
       "      <td>1.500000e+07</td>\n",
       "      <td>7.000000</td>\n",
       "      <td>6.450000e+03</td>\n",
       "      <td>5.000000</td>\n",
       "      <td>4.300000</td>\n",
       "    </tr>\n",
       "    <tr>\n",
       "      <th>75%</th>\n",
       "      <td>30.000000</td>\n",
       "      <td>23.000000</td>\n",
       "      <td>89.000000</td>\n",
       "      <td>0.000000</td>\n",
       "      <td>0.000000</td>\n",
       "      <td>0.000000</td>\n",
       "      <td>446.000000</td>\n",
       "      <td>3.300000e+07</td>\n",
       "      <td>9.000000</td>\n",
       "      <td>8.501500e+04</td>\n",
       "      <td>7.000000</td>\n",
       "      <td>4.500000</td>\n",
       "    </tr>\n",
       "    <tr>\n",
       "      <th>max</th>\n",
       "      <td>194.000000</td>\n",
       "      <td>32.000000</td>\n",
       "      <td>119.000000</td>\n",
       "      <td>2.000000</td>\n",
       "      <td>1.000000</td>\n",
       "      <td>400.000000</td>\n",
       "      <td>3145.000000</td>\n",
       "      <td>1.000000e+08</td>\n",
       "      <td>14.000000</td>\n",
       "      <td>7.815831e+07</td>\n",
       "      <td>13.000000</td>\n",
       "      <td>5.000000</td>\n",
       "    </tr>\n",
       "  </tbody>\n",
       "</table>\n",
       "</div>"
      ],
      "text/plain": [
       "           NameLen     Category       Genres  RecomendAge       Charge  \\\n",
       "count  9229.000000  9229.000000  9229.000000  9229.000000  9229.000000   \n",
       "mean     23.306642    17.786326    50.849496     0.259291     0.066421   \n",
       "std      12.453695     7.340255    34.111895     0.540364     0.249030   \n",
       "min       1.000000     0.000000     0.000000     0.000000     0.000000   \n",
       "25%      14.000000    14.000000    20.000000     0.000000     0.000000   \n",
       "50%      22.000000    18.000000    39.000000     0.000000     0.000000   \n",
       "75%      30.000000    23.000000    89.000000     0.000000     0.000000   \n",
       "max     194.000000    32.000000   119.000000     2.000000     1.000000   \n",
       "\n",
       "             Price   UpdateTerm          Size     Installs       Reviews  \\\n",
       "count  9229.000000  9229.000000  9.229000e+03  9229.000000  9.229000e+03   \n",
       "mean      0.960430   394.544479  2.320426e+07     6.685773  5.216806e+05   \n",
       "std      15.927958   395.551312  2.327035e+07     3.199188  3.166666e+06   \n",
       "min       0.000000   144.000000  8.500000e+03     0.000000  1.000000e+00   \n",
       "25%       0.000000   159.000000  5.600000e+06     4.000000  2.130000e+02   \n",
       "50%       0.000000   210.000000  1.500000e+07     7.000000  6.450000e+03   \n",
       "75%       0.000000   446.000000  3.300000e+07     9.000000  8.501500e+04   \n",
       "max     400.000000  3145.000000  1.000000e+08    14.000000  7.815831e+07   \n",
       "\n",
       "         Reviews_c       Rating  \n",
       "count  9229.000000  9229.000000  \n",
       "mean      4.880485     4.186467  \n",
       "std       2.981688     0.504563  \n",
       "min       1.000000     1.000000  \n",
       "25%       2.000000     4.000000  \n",
       "50%       5.000000     4.300000  \n",
       "75%       7.000000     4.500000  \n",
       "max      13.000000     5.000000  "
      ]
     },
     "execution_count": 93,
     "metadata": {},
     "output_type": "execute_result"
    }
   ],
   "source": [
    "app.describe()"
   ]
  },
  {
   "cell_type": "code",
   "execution_count": 94,
   "metadata": {},
   "outputs": [
    {
     "data": {
      "text/plain": [
       "0    7297\n",
       "1    1471\n",
       "2     461\n",
       "Name: RecomendAge, dtype: int64"
      ]
     },
     "execution_count": 94,
     "metadata": {},
     "output_type": "execute_result"
    }
   ],
   "source": [
    "app['RecomendAge'].value_counts()"
   ]
  },
  {
   "cell_type": "code",
   "execution_count": 95,
   "metadata": {},
   "outputs": [
    {
     "data": {
      "text/plain": [
       "0    8616\n",
       "1     613\n",
       "Name: Charge, dtype: int64"
      ]
     },
     "execution_count": 95,
     "metadata": {},
     "output_type": "execute_result"
    }
   ],
   "source": [
    "app['Charge'].value_counts()"
   ]
  },
  {
   "cell_type": "markdown",
   "metadata": {},
   "source": [
    "### < 그래프 출력 >"
   ]
  },
  {
   "cell_type": "code",
   "execution_count": 96,
   "metadata": {},
   "outputs": [
    {
     "data": {
      "text/plain": [
       "<matplotlib.axes._subplots.AxesSubplot at 0x1a7ef44f4e0>"
      ]
     },
     "execution_count": 96,
     "metadata": {},
     "output_type": "execute_result"
    },
    {
     "data": {
      "image/png": "[encoded data removed]",
      "text/plain": [
       "<Figure size 1008x360 with 1 Axes>"
      ]
     },
     "metadata": {},
     "output_type": "display_data"
    }
   ],
   "source": [
    "fig, axes = plt.subplots(1,1, figsize=(14,5))\n",
    "sns.countplot('Rating',data=app)"
   ]
  },
  {
   "cell_type": "code",
   "execution_count": 97,
   "metadata": {},
   "outputs": [],
   "source": [
    "# Rating의 값이 4.0에서 4.7 사이에 몰려 있음을 확인"
   ]
  },
  {
   "cell_type": "code",
   "execution_count": 98,
   "metadata": {},
   "outputs": [
    {
     "data": {
      "text/plain": [
       "<matplotlib.axes._subplots.AxesSubplot at 0x1a7ef6d31d0>"
      ]
     },
     "execution_count": 98,
     "metadata": {},
     "output_type": "execute_result"
    },
    {
     "data": {
      "image/png": "[encoded data removed]",
      "text/plain": [
       "<Figure size 1080x360 with 3 Axes>"
      ]
     },
     "metadata": {},
     "output_type": "display_data"
    }
   ],
   "source": [
    "fig, axes = plt.subplots(1,3, figsize=(15,5))\n",
    "\n",
    "sns.kdeplot(app.Reviews, shade = True,ax=axes[0])\n",
    "sns.kdeplot(app.Installs, shade = True,ax=axes[1])\n",
    "sns.kdeplot(app.Size, shade = True,ax=axes[2])"
   ]
  },
  {
   "cell_type": "code",
   "execution_count": 99,
   "metadata": {},
   "outputs": [],
   "source": [
    "# 대부분의 어플은 20M 이내의 용량을 가지고 있음을 확인 -> 크기가 작은 어플 선호?"
   ]
  },
  {
   "cell_type": "code",
   "execution_count": 100,
   "metadata": {},
   "outputs": [
    {
     "data": {
      "image/png": "[encoded data removed]",
      "text/plain": [
       "<Figure size 864x432 with 2 Axes>"
      ]
     },
     "metadata": {},
     "output_type": "display_data"
    }
   ],
   "source": [
    "fig, axes = plt.subplots(1,2, figsize=(12,6))\n",
    "\n",
    "app[\"Charge\"].value_counts().plot.pie(autopct='%1.1f%%', explode=[0,0.1], startangle=215, shadow=True, ax=axes[0])\n",
    "axes[0].set_title(\"Pie plot - Charge\")\n",
    "\n",
    "app[['Charge','Rating']].groupby(\"Charge\").mean().plot.bar(ylim=(3.5,5),color='firebrick',width=0.8, ax=axes[1])\n",
    "axes[1].set_title(\"Rating mean - Charge\")\n",
    "\n",
    "plt.tight_layout()"
   ]
  },
  {
   "cell_type": "code",
   "execution_count": 101,
   "metadata": {},
   "outputs": [],
   "source": [
    "# Rating의 값에는 큰 차이가 없으나, 대부분의 어플이 무료임을 확인"
   ]
  },
  {
   "cell_type": "code",
   "execution_count": 102,
   "metadata": {
    "scrolled": false
   },
   "outputs": [
    {
     "data": {
      "image/png": "[encoded data removed]",
      "text/plain": [
       "<Figure size 864x432 with 2 Axes>"
      ]
     },
     "metadata": {},
     "output_type": "display_data"
    }
   ],
   "source": [
    "fig, axes = plt.subplots(1,2, figsize=(12,6))\n",
    "\n",
    "sns.countplot('RecomendAge',data=app,ax=axes[0])\n",
    "axes[0].set_title(\"Bar plot - RecomendAge\")\n",
    "# app[['RecomendAge','Rating']].groupby(\"RecomendAge\").mean().plot.bar(ylim=(3.5,5),color='firebrick',width=0.8,ax=axes[1])\n",
    "\n",
    "sns.barplot(x='RecomendAge', y='Rating', hue='Charge', data=app,ax=axes[1])\n",
    "axes[1].set_title(\"Rating mean - RecomendAge\")\n",
    "\n",
    "plt.tight_layout()"
   ]
  },
  {
   "cell_type": "code",
   "execution_count": 103,
   "metadata": {},
   "outputs": [],
   "source": [
    "# 유료인 어플이 대체적으로 높은 Rating 보이고 있다."
   ]
  },
  {
   "cell_type": "code",
   "execution_count": 104,
   "metadata": {},
   "outputs": [
    {
     "data": {
      "image/png": "[encoded data removed]",
      "text/plain": [
       "<Figure size 864x432 with 2 Axes>"
      ]
     },
     "metadata": {},
     "output_type": "display_data"
    }
   ],
   "source": [
    "fig, (ax1,ax2) = plt.subplots(1,2, figsize=(12,6))\n",
    "\n",
    "sns.countplot('Category',data=app, ax=ax1)\n",
    "sns.countplot('Genres',data=app, ax=ax2)\n",
    "\n",
    "plt.tight_layout()"
   ]
  },
  {
   "cell_type": "code",
   "execution_count": 105,
   "metadata": {},
   "outputs": [],
   "source": [
    "# 인기가 많은 분야를 확인 -> 주로 Game 과 Family  "
   ]
  },
  {
   "cell_type": "code",
   "execution_count": 106,
   "metadata": {},
   "outputs": [
    {
     "data": {
      "text/plain": [
       "<matplotlib.axes._subplots.AxesSubplot at 0x1a7f01f1828>"
      ]
     },
     "execution_count": 106,
     "metadata": {},
     "output_type": "execute_result"
    },
    {
     "data": {
      "image/png": "[encoded data removed]",
      "text/plain": [
       "<Figure size 1080x360 with 1 Axes>"
      ]
     },
     "metadata": {},
     "output_type": "display_data"
    }
   ],
   "source": [
    "app[['Category','Rating']].groupby(\"Category\").mean().plot.bar(ylim=(3.5,5),color='paleturquoise',figsize=(15,5))"
   ]
  },
  {
   "cell_type": "code",
   "execution_count": 107,
   "metadata": {},
   "outputs": [],
   "source": [
    "# 해당 카테고리의 인기와 Rating값은 큰 연관성이 보이지 않는다."
   ]
  },
  {
   "cell_type": "code",
   "execution_count": 108,
   "metadata": {},
   "outputs": [
    {
     "data": {
      "text/plain": [
       "<matplotlib.axes._subplots.AxesSubplot at 0x1a7f001f9b0>"
      ]
     },
     "execution_count": 108,
     "metadata": {},
     "output_type": "execute_result"
    },
    {
     "data": {
      "image/png": "[encoded data removed]",
      "text/plain": [
       "<Figure size 1080x360 with 1 Axes>"
      ]
     },
     "metadata": {},
     "output_type": "display_data"
    }
   ],
   "source": [
    "app[['Genres','Rating']].groupby(\"Genres\").mean().plot.bar(ylim=(3.5,5), color='plum',figsize=(15,5))"
   ]
  },
  {
   "cell_type": "code",
   "execution_count": 109,
   "metadata": {},
   "outputs": [],
   "source": [
    "# Rating 값이 높은 장르 : 'Board;Pretend Play', 'Comics;Creativity'  / Rating 값이 낮은 장르 : 'Parenting;Brain Games'"
   ]
  },
  {
   "cell_type": "code",
   "execution_count": 110,
   "metadata": {
    "scrolled": false
   },
   "outputs": [
    {
     "data": {
      "image/png": "[encoded data removed]",
      "text/plain": [
       "<Figure size 1080x720 with 4 Axes>"
      ]
     },
     "metadata": {},
     "output_type": "display_data"
    }
   ],
   "source": [
    "fig, axes = plt.subplots(2,2)\n",
    "\n",
    "sns.barplot(data=app, x='Installs',y='Rating',ax=axes[0][0])\n",
    "sns.pointplot(x='Installs',y='Rating', data=app, hue='Charge',ax=axes[0][1])\n",
    "sns.barplot(data=app, x='Reviews_c',y='Rating',ax=axes[1][0])\n",
    "sns.pointplot(x='Reviews_c',y='Rating', data=app, hue='Charge',ax=axes[1][1])\n",
    "\n",
    "fig.set_size_inches(15,10)\n",
    "plt.show()"
   ]
  },
  {
   "cell_type": "code",
   "execution_count": 111,
   "metadata": {},
   "outputs": [],
   "source": [
    "# Rating과 Reviews, Installs 와의 연관성을 확인"
   ]
  },
  {
   "cell_type": "code",
   "execution_count": 112,
   "metadata": {},
   "outputs": [
    {
     "data": {
      "text/plain": [
       "<seaborn.axisgrid.FacetGrid at 0x1a7f0df39e8>"
      ]
     },
     "execution_count": 112,
     "metadata": {},
     "output_type": "execute_result"
    },
    {
     "data": {
      "image/png": "[encoded data removed]",
      "text/plain": [
       "<Figure size 779.75x360 with 2 Axes>"
      ]
     },
     "metadata": {},
     "output_type": "display_data"
    }
   ],
   "source": [
    "sns.catplot(x=\"Installs\", y=\"Rating\", hue=\"Reviews_c\",col=\"Charge\", data=app)"
   ]
  },
  {
   "cell_type": "code",
   "execution_count": 113,
   "metadata": {},
   "outputs": [],
   "source": [
    "# Reviews와 Installs 간의 연관성 확인\n",
    "# Installs가 높은 어플은 중에서 낮은 Rating값을 보이는 표본은 없음  \n",
    "# 유로인 어플은 설치 수가 일정 수준 이상을 넘기 어려움"
   ]
  },
  {
   "cell_type": "markdown",
   "metadata": {},
   "source": [
    "#### Correlation analysis"
   ]
  },
  {
   "cell_type": "code",
   "execution_count": 114,
   "metadata": {
    "scrolled": false
   },
   "outputs": [
    {
     "data": {
      "text/html": [
       "<div>\n",
       "<style scoped>\n",
       "    .dataframe tbody tr th:only-of-type {\n",
       "        vertical-align: middle;\n",
       "    }\n",
       "\n",
       "    .dataframe tbody tr th {\n",
       "        vertical-align: top;\n",
       "    }\n",
       "\n",
       "    .dataframe thead th {\n",
       "        text-align: right;\n",
       "    }\n",
       "</style>\n",
       "<table border=\"1\" class=\"dataframe\">\n",
       "  <thead>\n",
       "    <tr style=\"text-align: right;\">\n",
       "      <th></th>\n",
       "      <th>NameLen</th>\n",
       "      <th>Category</th>\n",
       "      <th>Genres</th>\n",
       "      <th>RecomendAge</th>\n",
       "      <th>Charge</th>\n",
       "      <th>Price</th>\n",
       "      <th>UpdateTerm</th>\n",
       "      <th>Size</th>\n",
       "      <th>Installs</th>\n",
       "      <th>Reviews</th>\n",
       "      <th>Reviews_c</th>\n",
       "      <th>Rating</th>\n",
       "    </tr>\n",
       "  </thead>\n",
       "  <tbody>\n",
       "    <tr>\n",
       "      <th>NameLen</th>\n",
       "      <td>1.000000</td>\n",
       "      <td>-0.030340</td>\n",
       "      <td>0.010568</td>\n",
       "      <td>0.068184</td>\n",
       "      <td>-0.017260</td>\n",
       "      <td>-0.025238</td>\n",
       "      <td>-0.151394</td>\n",
       "      <td>0.024698</td>\n",
       "      <td>0.095187</td>\n",
       "      <td>-0.029452</td>\n",
       "      <td>0.087833</td>\n",
       "      <td>0.150228</td>\n",
       "    </tr>\n",
       "    <tr>\n",
       "      <th>Category</th>\n",
       "      <td>-0.030340</td>\n",
       "      <td>1.000000</td>\n",
       "      <td>0.845664</td>\n",
       "      <td>-0.104985</td>\n",
       "      <td>0.047900</td>\n",
       "      <td>-0.014965</td>\n",
       "      <td>0.062335</td>\n",
       "      <td>-0.042690</td>\n",
       "      <td>0.029969</td>\n",
       "      <td>-0.013659</td>\n",
       "      <td>0.024223</td>\n",
       "      <td>-0.025540</td>\n",
       "    </tr>\n",
       "    <tr>\n",
       "      <th>Genres</th>\n",
       "      <td>0.010568</td>\n",
       "      <td>0.845664</td>\n",
       "      <td>1.000000</td>\n",
       "      <td>-0.098530</td>\n",
       "      <td>0.063799</td>\n",
       "      <td>-0.023256</td>\n",
       "      <td>0.028808</td>\n",
       "      <td>-0.096589</td>\n",
       "      <td>0.048594</td>\n",
       "      <td>-0.004749</td>\n",
       "      <td>0.033965</td>\n",
       "      <td>-0.027153</td>\n",
       "    </tr>\n",
       "    <tr>\n",
       "      <th>RecomendAge</th>\n",
       "      <td>0.068184</td>\n",
       "      <td>-0.104985</td>\n",
       "      <td>-0.098530</td>\n",
       "      <td>1.000000</td>\n",
       "      <td>-0.041831</td>\n",
       "      <td>-0.017217</td>\n",
       "      <td>-0.081645</td>\n",
       "      <td>0.162151</td>\n",
       "      <td>0.121794</td>\n",
       "      <td>0.060899</td>\n",
       "      <td>0.155299</td>\n",
       "      <td>0.007546</td>\n",
       "    </tr>\n",
       "    <tr>\n",
       "      <th>Charge</th>\n",
       "      <td>-0.017260</td>\n",
       "      <td>0.047900</td>\n",
       "      <td>0.063799</td>\n",
       "      <td>-0.041831</td>\n",
       "      <td>1.000000</td>\n",
       "      <td>0.226075</td>\n",
       "      <td>0.168613</td>\n",
       "      <td>-0.032361</td>\n",
       "      <td>-0.272090</td>\n",
       "      <td>-0.042661</td>\n",
       "      <td>-0.182826</td>\n",
       "      <td>0.041048</td>\n",
       "    </tr>\n",
       "    <tr>\n",
       "      <th>Price</th>\n",
       "      <td>-0.025238</td>\n",
       "      <td>-0.014965</td>\n",
       "      <td>-0.023256</td>\n",
       "      <td>-0.017217</td>\n",
       "      <td>0.226075</td>\n",
       "      <td>1.000000</td>\n",
       "      <td>0.002903</td>\n",
       "      <td>-0.025758</td>\n",
       "      <td>-0.065245</td>\n",
       "      <td>-0.009820</td>\n",
       "      <td>-0.051940</td>\n",
       "      <td>-0.022479</td>\n",
       "    </tr>\n",
       "    <tr>\n",
       "      <th>UpdateTerm</th>\n",
       "      <td>-0.151394</td>\n",
       "      <td>0.062335</td>\n",
       "      <td>0.028808</td>\n",
       "      <td>-0.081645</td>\n",
       "      <td>0.168613</td>\n",
       "      <td>0.002903</td>\n",
       "      <td>1.000000</td>\n",
       "      <td>-0.214270</td>\n",
       "      <td>-0.286814</td>\n",
       "      <td>-0.088577</td>\n",
       "      <td>-0.290664</td>\n",
       "      <td>-0.142573</td>\n",
       "    </tr>\n",
       "    <tr>\n",
       "      <th>Size</th>\n",
       "      <td>0.024698</td>\n",
       "      <td>-0.042690</td>\n",
       "      <td>-0.096589</td>\n",
       "      <td>0.162151</td>\n",
       "      <td>-0.032361</td>\n",
       "      <td>-0.025758</td>\n",
       "      <td>-0.214270</td>\n",
       "      <td>1.000000</td>\n",
       "      <td>0.292264</td>\n",
       "      <td>0.150531</td>\n",
       "      <td>0.330982</td>\n",
       "      <td>0.089889</td>\n",
       "    </tr>\n",
       "    <tr>\n",
       "      <th>Installs</th>\n",
       "      <td>0.095187</td>\n",
       "      <td>0.029969</td>\n",
       "      <td>0.048594</td>\n",
       "      <td>0.121794</td>\n",
       "      <td>-0.272090</td>\n",
       "      <td>-0.065245</td>\n",
       "      <td>-0.286814</td>\n",
       "      <td>0.292264</td>\n",
       "      <td>1.000000</td>\n",
       "      <td>0.288985</td>\n",
       "      <td>0.938049</td>\n",
       "      <td>0.158525</td>\n",
       "    </tr>\n",
       "    <tr>\n",
       "      <th>Reviews</th>\n",
       "      <td>-0.029452</td>\n",
       "      <td>-0.013659</td>\n",
       "      <td>-0.004749</td>\n",
       "      <td>0.060899</td>\n",
       "      <td>-0.042661</td>\n",
       "      <td>-0.009820</td>\n",
       "      <td>-0.088577</td>\n",
       "      <td>0.150531</td>\n",
       "      <td>0.288985</td>\n",
       "      <td>1.000000</td>\n",
       "      <td>0.340924</td>\n",
       "      <td>0.071837</td>\n",
       "    </tr>\n",
       "    <tr>\n",
       "      <th>Reviews_c</th>\n",
       "      <td>0.087833</td>\n",
       "      <td>0.024223</td>\n",
       "      <td>0.033965</td>\n",
       "      <td>0.155299</td>\n",
       "      <td>-0.182826</td>\n",
       "      <td>-0.051940</td>\n",
       "      <td>-0.290664</td>\n",
       "      <td>0.330982</td>\n",
       "      <td>0.938049</td>\n",
       "      <td>0.340924</td>\n",
       "      <td>1.000000</td>\n",
       "      <td>0.255633</td>\n",
       "    </tr>\n",
       "    <tr>\n",
       "      <th>Rating</th>\n",
       "      <td>0.150228</td>\n",
       "      <td>-0.025540</td>\n",
       "      <td>-0.027153</td>\n",
       "      <td>0.007546</td>\n",
       "      <td>0.041048</td>\n",
       "      <td>-0.022479</td>\n",
       "      <td>-0.142573</td>\n",
       "      <td>0.089889</td>\n",
       "      <td>0.158525</td>\n",
       "      <td>0.071837</td>\n",
       "      <td>0.255633</td>\n",
       "      <td>1.000000</td>\n",
       "    </tr>\n",
       "  </tbody>\n",
       "</table>\n",
       "</div>"
      ],
      "text/plain": [
       "              NameLen  Category    Genres  RecomendAge    Charge     Price  \\\n",
       "NameLen      1.000000 -0.030340  0.010568     0.068184 -0.017260 -0.025238   \n",
       "Category    -0.030340  1.000000  0.845664    -0.104985  0.047900 -0.014965   \n",
       "Genres       0.010568  0.845664  1.000000    -0.098530  0.063799 -0.023256   \n",
       "RecomendAge  0.068184 -0.104985 -0.098530     1.000000 -0.041831 -0.017217   \n",
       "Charge      -0.017260  0.047900  0.063799    -0.041831  1.000000  0.226075   \n",
       "Price       -0.025238 -0.014965 -0.023256    -0.017217  0.226075  1.000000   \n",
       "UpdateTerm  -0.151394  0.062335  0.028808    -0.081645  0.168613  0.002903   \n",
       "Size         0.024698 -0.042690 -0.096589     0.162151 -0.032361 -0.025758   \n",
       "Installs     0.095187  0.029969  0.048594     0.121794 -0.272090 -0.065245   \n",
       "Reviews     -0.029452 -0.013659 -0.004749     0.060899 -0.042661 -0.009820   \n",
       "Reviews_c    0.087833  0.024223  0.033965     0.155299 -0.182826 -0.051940   \n",
       "Rating       0.150228 -0.025540 -0.027153     0.007546  0.041048 -0.022479   \n",
       "\n",
       "             UpdateTerm      Size  Installs   Reviews  Reviews_c    Rating  \n",
       "NameLen       -0.151394  0.024698  0.095187 -0.029452   0.087833  0.150228  \n",
       "Category       0.062335 -0.042690  0.029969 -0.013659   0.024223 -0.025540  \n",
       "Genres         0.028808 -0.096589  0.048594 -0.004749   0.033965 -0.027153  \n",
       "RecomendAge   -0.081645  0.162151  0.121794  0.060899   0.155299  0.007546  \n",
       "Charge         0.168613 -0.032361 -0.272090 -0.042661  -0.182826  0.041048  \n",
       "Price          0.002903 -0.025758 -0.065245 -0.009820  -0.051940 -0.022479  \n",
       "UpdateTerm     1.000000 -0.214270 -0.286814 -0.088577  -0.290664 -0.142573  \n",
       "Size          -0.214270  1.000000  0.292264  0.150531   0.330982  0.089889  \n",
       "Installs      -0.286814  0.292264  1.000000  0.288985   0.938049  0.158525  \n",
       "Reviews       -0.088577  0.150531  0.288985  1.000000   0.340924  0.071837  \n",
       "Reviews_c     -0.290664  0.330982  0.938049  0.340924   1.000000  0.255633  \n",
       "Rating        -0.142573  0.089889  0.158525  0.071837   0.255633  1.000000  "
      ]
     },
     "execution_count": 114,
     "metadata": {},
     "output_type": "execute_result"
    }
   ],
   "source": [
    "app.corr()"
   ]
  },
  {
   "cell_type": "code",
   "execution_count": 115,
   "metadata": {},
   "outputs": [
    {
     "data": {
      "text/plain": [
       "<matplotlib.axes._subplots.AxesSubplot at 0x1a7f0be2710>"
      ]
     },
     "execution_count": 115,
     "metadata": {},
     "output_type": "execute_result"
    },
    {
     "data": {
      "image/png": "[encoded data removed]",
      "text/plain": [
       "<Figure size 576x504 with 2 Axes>"
      ]
     },
     "metadata": {},
     "output_type": "display_data"
    }
   ],
   "source": [
    "corrApp=app.corr()\n",
    "mask=np.array(corrApp)\n",
    "mask[np.tril_indices_from(mask)]=False\n",
    "\n",
    "plt.figure(figsize=(8, 7))\n",
    "sns.heatmap(corrApp,mask=mask,square=True,cmap=\"YlGnBu\")"
   ]
  },
  {
   "cell_type": "markdown",
   "metadata": {},
   "source": [
    "#### Linear regression"
   ]
  },
  {
   "cell_type": "code",
   "execution_count": 116,
   "metadata": {},
   "outputs": [
    {
     "data": {
      "image/png": "[encoded data removed]",
      "text/plain": [
       "<Figure size 1080x720 with 4 Axes>"
      ]
     },
     "metadata": {},
     "output_type": "display_data"
    }
   ],
   "source": [
    "fig, ((ax1,ax2),(ax3,ax4)) = plt.subplots(2,2)\n",
    "\n",
    "sns.regplot(\"Reviews\",\"Rating\", data=app,color=\"steelblue\", label = 'Reviews', marker = 'x',ax=ax1)\n",
    "sns.regplot(\"UpdateTerm\",\"Rating\", data=app,color=\"darkorange\",label = 'UpdateTerm', marker = 'x',ax=ax2)\n",
    "sns.regplot(\"NameLen\",\"Rating\", data=app, color=\"g\",marker = 'x',ax=ax3)\n",
    "sns.regplot(\"Price\",\"Rating\", data=app, color=\"firebrick\",marker = 'x',ax=ax4)\n",
    "\n",
    "# ax4.set(ylabel='Rating',xlabel='NameLen',title='<NameLen & Rating>')\n",
    "fig.suptitle(\"Linear regression\")\n",
    "\n",
    "fig.set_size_inches(15,10)"
   ]
  },
  {
   "cell_type": "code",
   "execution_count": 117,
   "metadata": {},
   "outputs": [],
   "source": [
    "# 앱 이름의 길이와 Rating과 양의 상관관계를 가짐을 확인\n",
    "# 어플의 금액이 높아질 수록 Rating값은 하락하는 추세를 보임"
   ]
  },
  {
   "cell_type": "markdown",
   "metadata": {},
   "source": [
    "### < 데이터 표준화 >"
   ]
  },
  {
   "cell_type": "code",
   "execution_count": 118,
   "metadata": {},
   "outputs": [],
   "source": [
    "from numpy import *\n",
    "app[\"NameLen\"]=(app[\"NameLen\"]-mean(app[\"NameLen\"],axis=0))/std(app[\"NameLen\"],axis=0)"
   ]
  },
  {
   "cell_type": "code",
   "execution_count": 119,
   "metadata": {},
   "outputs": [
    {
     "data": {
      "text/plain": [
       "1.0000541814537298"
      ]
     },
     "execution_count": 119,
     "metadata": {},
     "output_type": "execute_result"
    }
   ],
   "source": [
    "app[\"NameLen\"].std()"
   ]
  },
  {
   "cell_type": "code",
   "execution_count": 120,
   "metadata": {},
   "outputs": [],
   "source": [
    "import scipy.stats as ss\n",
    "app[\"UpdateTerm\"]=ss.zscore(app[\"UpdateTerm\"])"
   ]
  },
  {
   "cell_type": "code",
   "execution_count": 121,
   "metadata": {},
   "outputs": [
    {
     "data": {
      "text/plain": [
       "1.0000541814537276"
      ]
     },
     "execution_count": 121,
     "metadata": {},
     "output_type": "execute_result"
    }
   ],
   "source": [
    "app[\"UpdateTerm\"].std()"
   ]
  },
  {
   "cell_type": "code",
   "execution_count": 122,
   "metadata": {},
   "outputs": [
    {
     "data": {
      "text/plain": [
       "1.000054181453563"
      ]
     },
     "execution_count": 122,
     "metadata": {},
     "output_type": "execute_result"
    }
   ],
   "source": [
    "app[\"Price\"]=ss.zscore(app[\"Price\"])\n",
    "app[\"Price\"].std()"
   ]
  },
  {
   "cell_type": "code",
   "execution_count": 123,
   "metadata": {},
   "outputs": [
    {
     "data": {
      "text/html": [
       "<div>\n",
       "<style scoped>\n",
       "    .dataframe tbody tr th:only-of-type {\n",
       "        vertical-align: middle;\n",
       "    }\n",
       "\n",
       "    .dataframe tbody tr th {\n",
       "        vertical-align: top;\n",
       "    }\n",
       "\n",
       "    .dataframe thead th {\n",
       "        text-align: right;\n",
       "    }\n",
       "</style>\n",
       "<table border=\"1\" class=\"dataframe\">\n",
       "  <thead>\n",
       "    <tr style=\"text-align: right;\">\n",
       "      <th></th>\n",
       "      <th>NameLen</th>\n",
       "      <th>Category</th>\n",
       "      <th>Genres</th>\n",
       "      <th>RecomendAge</th>\n",
       "      <th>Charge</th>\n",
       "      <th>Price</th>\n",
       "      <th>UpdateTerm</th>\n",
       "      <th>Size</th>\n",
       "      <th>Installs</th>\n",
       "      <th>Reviews</th>\n",
       "      <th>Reviews_c</th>\n",
       "      <th>Rating</th>\n",
       "    </tr>\n",
       "  </thead>\n",
       "  <tbody>\n",
       "    <tr>\n",
       "      <th>count</th>\n",
       "      <td>9.229000e+03</td>\n",
       "      <td>9229.000000</td>\n",
       "      <td>9229.000000</td>\n",
       "      <td>9229.000000</td>\n",
       "      <td>9229.000000</td>\n",
       "      <td>9.229000e+03</td>\n",
       "      <td>9.229000e+03</td>\n",
       "      <td>9.229000e+03</td>\n",
       "      <td>9229.000000</td>\n",
       "      <td>9.229000e+03</td>\n",
       "      <td>9229.000000</td>\n",
       "      <td>9229.000000</td>\n",
       "    </tr>\n",
       "    <tr>\n",
       "      <th>mean</th>\n",
       "      <td>-3.354608e-16</td>\n",
       "      <td>17.786326</td>\n",
       "      <td>50.849496</td>\n",
       "      <td>0.259291</td>\n",
       "      <td>0.066421</td>\n",
       "      <td>1.984957e-15</td>\n",
       "      <td>1.530217e-15</td>\n",
       "      <td>2.320426e+07</td>\n",
       "      <td>6.685773</td>\n",
       "      <td>5.216806e+05</td>\n",
       "      <td>4.880485</td>\n",
       "      <td>4.186467</td>\n",
       "    </tr>\n",
       "    <tr>\n",
       "      <th>std</th>\n",
       "      <td>1.000054e+00</td>\n",
       "      <td>7.340255</td>\n",
       "      <td>34.111895</td>\n",
       "      <td>0.540364</td>\n",
       "      <td>0.249030</td>\n",
       "      <td>1.000054e+00</td>\n",
       "      <td>1.000054e+00</td>\n",
       "      <td>2.327035e+07</td>\n",
       "      <td>3.199188</td>\n",
       "      <td>3.166666e+06</td>\n",
       "      <td>2.981688</td>\n",
       "      <td>0.504563</td>\n",
       "    </tr>\n",
       "    <tr>\n",
       "      <th>min</th>\n",
       "      <td>-1.791264e+00</td>\n",
       "      <td>0.000000</td>\n",
       "      <td>0.000000</td>\n",
       "      <td>0.000000</td>\n",
       "      <td>0.000000</td>\n",
       "      <td>-6.030165e-02</td>\n",
       "      <td>-6.334401e-01</td>\n",
       "      <td>8.500000e+03</td>\n",
       "      <td>0.000000</td>\n",
       "      <td>1.000000e+00</td>\n",
       "      <td>1.000000</td>\n",
       "      <td>1.000000</td>\n",
       "    </tr>\n",
       "    <tr>\n",
       "      <th>25%</th>\n",
       "      <td>-7.473402e-01</td>\n",
       "      <td>14.000000</td>\n",
       "      <td>20.000000</td>\n",
       "      <td>0.000000</td>\n",
       "      <td>0.000000</td>\n",
       "      <td>-6.030165e-02</td>\n",
       "      <td>-5.955163e-01</td>\n",
       "      <td>5.600000e+06</td>\n",
       "      <td>4.000000</td>\n",
       "      <td>2.130000e+02</td>\n",
       "      <td>2.000000</td>\n",
       "      <td>4.000000</td>\n",
       "    </tr>\n",
       "    <tr>\n",
       "      <th>50%</th>\n",
       "      <td>-1.049257e-01</td>\n",
       "      <td>18.000000</td>\n",
       "      <td>39.000000</td>\n",
       "      <td>0.000000</td>\n",
       "      <td>0.000000</td>\n",
       "      <td>-6.030165e-02</td>\n",
       "      <td>-4.665753e-01</td>\n",
       "      <td>1.500000e+07</td>\n",
       "      <td>7.000000</td>\n",
       "      <td>6.450000e+03</td>\n",
       "      <td>5.000000</td>\n",
       "      <td>4.300000</td>\n",
       "    </tr>\n",
       "    <tr>\n",
       "      <th>75%</th>\n",
       "      <td>5.374887e-01</td>\n",
       "      <td>23.000000</td>\n",
       "      <td>89.000000</td>\n",
       "      <td>0.000000</td>\n",
       "      <td>0.000000</td>\n",
       "      <td>-6.030165e-02</td>\n",
       "      <td>1.300926e-01</td>\n",
       "      <td>3.300000e+07</td>\n",
       "      <td>9.000000</td>\n",
       "      <td>8.501500e+04</td>\n",
       "      <td>7.000000</td>\n",
       "      <td>4.500000</td>\n",
       "    </tr>\n",
       "    <tr>\n",
       "      <th>max</th>\n",
       "      <td>1.370698e+01</td>\n",
       "      <td>32.000000</td>\n",
       "      <td>119.000000</td>\n",
       "      <td>2.000000</td>\n",
       "      <td>1.000000</td>\n",
       "      <td>2.505413e+01</td>\n",
       "      <td>6.953850e+00</td>\n",
       "      <td>1.000000e+08</td>\n",
       "      <td>14.000000</td>\n",
       "      <td>7.815831e+07</td>\n",
       "      <td>13.000000</td>\n",
       "      <td>5.000000</td>\n",
       "    </tr>\n",
       "  </tbody>\n",
       "</table>\n",
       "</div>"
      ],
      "text/plain": [
       "            NameLen     Category       Genres  RecomendAge       Charge  \\\n",
       "count  9.229000e+03  9229.000000  9229.000000  9229.000000  9229.000000   \n",
       "mean  -3.354608e-16    17.786326    50.849496     0.259291     0.066421   \n",
       "std    1.000054e+00     7.340255    34.111895     0.540364     0.249030   \n",
       "min   -1.791264e+00     0.000000     0.000000     0.000000     0.000000   \n",
       "25%   -7.473402e-01    14.000000    20.000000     0.000000     0.000000   \n",
       "50%   -1.049257e-01    18.000000    39.000000     0.000000     0.000000   \n",
       "75%    5.374887e-01    23.000000    89.000000     0.000000     0.000000   \n",
       "max    1.370698e+01    32.000000   119.000000     2.000000     1.000000   \n",
       "\n",
       "              Price    UpdateTerm          Size     Installs       Reviews  \\\n",
       "count  9.229000e+03  9.229000e+03  9.229000e+03  9229.000000  9.229000e+03   \n",
       "mean   1.984957e-15  1.530217e-15  2.320426e+07     6.685773  5.216806e+05   \n",
       "std    1.000054e+00  1.000054e+00  2.327035e+07     3.199188  3.166666e+06   \n",
       "min   -6.030165e-02 -6.334401e-01  8.500000e+03     0.000000  1.000000e+00   \n",
       "25%   -6.030165e-02 -5.955163e-01  5.600000e+06     4.000000  2.130000e+02   \n",
       "50%   -6.030165e-02 -4.665753e-01  1.500000e+07     7.000000  6.450000e+03   \n",
       "75%   -6.030165e-02  1.300926e-01  3.300000e+07     9.000000  8.501500e+04   \n",
       "max    2.505413e+01  6.953850e+00  1.000000e+08    14.000000  7.815831e+07   \n",
       "\n",
       "         Reviews_c       Rating  \n",
       "count  9229.000000  9229.000000  \n",
       "mean      4.880485     4.186467  \n",
       "std       2.981688     0.504563  \n",
       "min       1.000000     1.000000  \n",
       "25%       2.000000     4.000000  \n",
       "50%       5.000000     4.300000  \n",
       "75%       7.000000     4.500000  \n",
       "max      13.000000     5.000000  "
      ]
     },
     "execution_count": 123,
     "metadata": {},
     "output_type": "execute_result"
    }
   ],
   "source": [
    "app.describe()"
   ]
  },
  {
   "cell_type": "markdown",
   "metadata": {},
   "source": [
    "## 3. 데이터 모델링"
   ]
  },
  {
   "cell_type": "markdown",
   "metadata": {},
   "source": [
    "### < 모델링용 데이터 분리 >"
   ]
  },
  {
   "cell_type": "code",
   "execution_count": 124,
   "metadata": {},
   "outputs": [
    {
     "name": "stdout",
     "output_type": "stream",
     "text": [
      "<class 'pandas.core.frame.DataFrame'>\n",
      "Int64Index: 9229 entries, 0 to 10840\n",
      "Data columns (total 12 columns):\n",
      "NameLen        9229 non-null float64\n",
      "Category       9229 non-null int32\n",
      "Genres         9229 non-null int32\n",
      "RecomendAge    9229 non-null int64\n",
      "Charge         9229 non-null int64\n",
      "Price          9229 non-null float64\n",
      "UpdateTerm     9229 non-null float64\n",
      "Size           9229 non-null float64\n",
      "Installs       9229 non-null int64\n",
      "Reviews        9229 non-null int64\n",
      "Reviews_c      9229 non-null int64\n",
      "Rating         9229 non-null float64\n",
      "dtypes: float64(5), int32(2), int64(5)\n",
      "memory usage: 1.2 MB\n"
     ]
    }
   ],
   "source": [
    "app.info()"
   ]
  },
  {
   "cell_type": "code",
   "execution_count": 125,
   "metadata": {
    "scrolled": true
   },
   "outputs": [
    {
     "name": "stdout",
     "output_type": "stream",
     "text": [
      "<class 'pandas.core.frame.DataFrame'>\n",
      "Int64Index: 9229 entries, 0 to 10840\n",
      "Data columns (total 11 columns):\n",
      "NameLen        9229 non-null float64\n",
      "Category       9229 non-null int32\n",
      "Genres         9229 non-null int32\n",
      "RecomendAge    9229 non-null int64\n",
      "Charge         9229 non-null int64\n",
      "Price          9229 non-null float64\n",
      "UpdateTerm     9229 non-null float64\n",
      "Size           9229 non-null float64\n",
      "Installs       9229 non-null int64\n",
      "Reviews        9229 non-null int64\n",
      "Reviews_c      9229 non-null int64\n",
      "dtypes: float64(4), int32(2), int64(5)\n",
      "memory usage: 1.1 MB\n",
      "None\n"
     ]
    }
   ],
   "source": [
    "app_data=app.drop(\"Rating\", axis=1)\n",
    "print(app_data.info())"
   ]
  },
  {
   "cell_type": "code",
   "execution_count": 126,
   "metadata": {},
   "outputs": [
    {
     "data": {
      "text/plain": [
       "pandas.core.series.Series"
      ]
     },
     "execution_count": 126,
     "metadata": {},
     "output_type": "execute_result"
    }
   ],
   "source": [
    "target=app.Rating\n",
    "type(target)"
   ]
  },
  {
   "cell_type": "code",
   "execution_count": 127,
   "metadata": {},
   "outputs": [
    {
     "name": "stdout",
     "output_type": "stream",
     "text": [
      "(9229, 11)\n",
      "(9229,)\n"
     ]
    }
   ],
   "source": [
    "print(app_data.shape)\n",
    "print(target.shape)"
   ]
  },
  {
   "cell_type": "code",
   "execution_count": 128,
   "metadata": {},
   "outputs": [],
   "source": [
    "app_data=app_data.reset_index(drop=\"index\")\n",
    "target=target.reset_index(drop=\"index\")"
   ]
  },
  {
   "cell_type": "markdown",
   "metadata": {},
   "source": [
    "### < taget 변형 작업 >"
   ]
  },
  {
   "cell_type": "code",
   "execution_count": 129,
   "metadata": {},
   "outputs": [],
   "source": [
    "# ValueError: Unknown label type: 'continuous'"
   ]
  },
  {
   "cell_type": "code",
   "execution_count": 130,
   "metadata": {},
   "outputs": [],
   "source": [
    "from sklearn import metrics, svm\n",
    "from sklearn.linear_model import LogisticRegression\n",
    "from sklearn import preprocessing\n",
    "from sklearn import utils"
   ]
  },
  {
   "cell_type": "code",
   "execution_count": 131,
   "metadata": {
    "scrolled": true
   },
   "outputs": [
    {
     "name": "stdout",
     "output_type": "stream",
     "text": [
      "[29 27 35 ... 38 33 33]\n",
      "continuous\n",
      "multiclass\n",
      "multiclass\n"
     ]
    }
   ],
   "source": [
    "lab_enc = preprocessing.LabelEncoder()\n",
    "modified_target = lab_enc.fit_transform(target)\n",
    "print(modified_target)\n",
    "print(utils.multiclass.type_of_target(target))\n",
    "print(utils.multiclass.type_of_target(target.astype('int')))\n",
    "print(utils.multiclass.type_of_target(modified_target))"
   ]
  },
  {
   "cell_type": "code",
   "execution_count": 132,
   "metadata": {},
   "outputs": [
    {
     "name": "stdout",
     "output_type": "stream",
     "text": [
      "LogisticRegression\n"
     ]
    }
   ],
   "source": [
    "clf = LogisticRegression()\n",
    "clf.fit(app_data,modified_target)\n",
    "print(\"LogisticRegression\")\n",
    "# print(clf.predict(prediction_data_test))"
   ]
  },
  {
   "cell_type": "code",
   "execution_count": 133,
   "metadata": {},
   "outputs": [
    {
     "data": {
      "text/plain": [
       "LogisticRegression(C=1.0, class_weight=None, dual=False, fit_intercept=True,\n",
       "          intercept_scaling=1, max_iter=100, multi_class='ovr', n_jobs=1,\n",
       "          penalty='l2', random_state=None, solver='liblinear', tol=0.0001,\n",
       "          verbose=0, warm_start=False)"
      ]
     },
     "execution_count": 133,
     "metadata": {},
     "output_type": "execute_result"
    }
   ],
   "source": [
    "clf = LogisticRegression()\n",
    "clf.fit(app_data,modified_target)"
   ]
  },
  {
   "cell_type": "markdown",
   "metadata": {},
   "source": [
    "### < 모델링 >"
   ]
  },
  {
   "cell_type": "code",
   "execution_count": 134,
   "metadata": {},
   "outputs": [],
   "source": [
    "from sklearn.neighbors import KNeighborsClassifier\n",
    "from sklearn.ensemble import RandomForestClassifier\n",
    "from sklearn.tree import DecisionTreeClassifier\n",
    "from sklearn.naive_bayes import GaussianNB\n",
    "from sklearn.svm import SVC"
   ]
  },
  {
   "cell_type": "code",
   "execution_count": 135,
   "metadata": {},
   "outputs": [],
   "source": [
    "from sklearn.model_selection import KFold\n",
    "from sklearn.model_selection import cross_val_score"
   ]
  },
  {
   "cell_type": "code",
   "execution_count": 136,
   "metadata": {},
   "outputs": [],
   "source": [
    "k_fold=KFold(n_splits=20, shuffle=True, random_state=0)"
   ]
  },
  {
   "cell_type": "markdown",
   "metadata": {},
   "source": [
    "#### Knn 알고리즘 "
   ]
  },
  {
   "cell_type": "code",
   "execution_count": 137,
   "metadata": {},
   "outputs": [
    {
     "name": "stdout",
     "output_type": "stream",
     "text": [
      "[0.12987013 0.12987013 0.11471861 0.14285714 0.12121212 0.12770563\n",
      " 0.11038961 0.11255411 0.13419913 0.12798265 0.13665944 0.09978308\n",
      " 0.10412148 0.16052061 0.13449024 0.12147505 0.13665944 0.16052061\n",
      " 0.13232104 0.13015184]\n",
      "12.84\n"
     ]
    }
   ],
   "source": [
    "clf= KNeighborsClassifier(n_neighbors=20) \n",
    "score=cross_val_score(clf, app_data, modified_target, cv=k_fold,n_jobs=1)\n",
    "print(score)\n",
    "print(round(np.mean(score)*100,2))"
   ]
  },
  {
   "cell_type": "markdown",
   "metadata": {},
   "source": [
    "#### naive_bayes 알고리즘 "
   ]
  },
  {
   "cell_type": "code",
   "execution_count": 138,
   "metadata": {},
   "outputs": [
    {
     "name": "stdout",
     "output_type": "stream",
     "text": [
      "[0.06277056 0.05411255 0.05627706 0.04978355 0.06060606 0.04545455\n",
      " 0.04329004 0.06060606 0.05411255 0.04772234 0.07592191 0.05639913\n",
      " 0.04772234 0.06073753 0.06290672 0.06507592 0.05422993 0.07592191\n",
      " 0.06290672 0.06507592]\n",
      "5.81\n"
     ]
    }
   ],
   "source": [
    "clf=GaussianNB()\n",
    "score=cross_val_score(clf, app_data, modified_target, cv=k_fold, n_jobs=1)\n",
    "print(score)\n",
    "print(round(np.mean(score)*100,2))"
   ]
  },
  {
   "cell_type": "markdown",
   "metadata": {},
   "source": [
    "#### DecisionTree"
   ]
  },
  {
   "cell_type": "code",
   "execution_count": 139,
   "metadata": {},
   "outputs": [
    {
     "name": "stdout",
     "output_type": "stream",
     "text": [
      "[0.24891775 0.26406926 0.28571429 0.25757576 0.24675325 0.27489177\n",
      " 0.28138528 0.25974026 0.25541126 0.27331887 0.2516269  0.28850325\n",
      " 0.21691974 0.26030369 0.26464208 0.29718004 0.31453362 0.27114967\n",
      " 0.24511931 0.30151844]\n",
      "26.8\n"
     ]
    }
   ],
   "source": [
    "clf=DecisionTreeClassifier()\n",
    "score=cross_val_score(clf, app_data, modified_target, cv=k_fold, n_jobs=1)\n",
    "print(score)\n",
    "print(round(np.mean(score)*100,2))"
   ]
  },
  {
   "cell_type": "markdown",
   "metadata": {},
   "source": [
    "#### RandomForest"
   ]
  },
  {
   "cell_type": "code",
   "execution_count": 140,
   "metadata": {
    "scrolled": true
   },
   "outputs": [
    {
     "name": "stdout",
     "output_type": "stream",
     "text": [
      "[0.29004329 0.26623377 0.30519481 0.28571429 0.25974026 0.27272727\n",
      " 0.32251082 0.3008658  0.27705628 0.27982646 0.27331887 0.31236443\n",
      " 0.2537961  0.2516269  0.27331887 0.27331887 0.29718004 0.26464208\n",
      " 0.26898048 0.27331887]\n",
      "28.01\n"
     ]
    }
   ],
   "source": [
    "clf=RandomForestClassifier()\n",
    "score=cross_val_score(clf, app_data, modified_target, cv=k_fold, n_jobs=1)\n",
    "print(score)\n",
    "print(round(np.mean(score)*100,2))"
   ]
  },
  {
   "cell_type": "code",
   "execution_count": 142,
   "metadata": {},
   "outputs": [],
   "source": [
    "# target이 float 이므로 정확한 Rating 값 예측이 어려움"
   ]
  },
  {
   "cell_type": "markdown",
   "metadata": {},
   "source": [
    "### < target 값 수정 >"
   ]
  },
  {
   "cell_type": "code",
   "execution_count": 143,
   "metadata": {},
   "outputs": [],
   "source": [
    "# Rating의 값을 int로 변형하여 다시 예측"
   ]
  },
  {
   "cell_type": "code",
   "execution_count": 144,
   "metadata": {},
   "outputs": [],
   "source": [
    "def change_target(x):\n",
    "    for i in range(6):\n",
    "        if x>=i and x<i+1:\n",
    "            return i"
   ]
  },
  {
   "cell_type": "code",
   "execution_count": 145,
   "metadata": {},
   "outputs": [
    {
     "data": {
      "text/plain": [
       "array([4, 3, 5, 2, 1], dtype=int64)"
      ]
     },
     "execution_count": 145,
     "metadata": {},
     "output_type": "execute_result"
    }
   ],
   "source": [
    "changed_target=app[\"Rating\"].apply(change_target)\n",
    "changed_target.unique()"
   ]
  },
  {
   "cell_type": "code",
   "execution_count": 146,
   "metadata": {},
   "outputs": [],
   "source": [
    "k_fold=KFold(n_splits=20, shuffle=True, random_state=0)"
   ]
  },
  {
   "cell_type": "code",
   "execution_count": 147,
   "metadata": {},
   "outputs": [
    {
     "name": "stdout",
     "output_type": "stream",
     "text": [
      "[0.75541126 0.74891775 0.76406926 0.74242424 0.74458874 0.74458874\n",
      " 0.76406926 0.75324675 0.75108225 0.78524946 0.7483731  0.76355748\n",
      " 0.74186551 0.76572668 0.7527115  0.7505423  0.76138829 0.76572668\n",
      " 0.75704989 0.78091106]\n",
      "75.71\n"
     ]
    }
   ],
   "source": [
    "clf= KNeighborsClassifier(n_neighbors=20) \n",
    "score=cross_val_score(clf, app_data, changed_target, cv=k_fold,n_jobs=1)\n",
    "print(score)\n",
    "print(round(np.mean(score)*100,2))"
   ]
  },
  {
   "cell_type": "code",
   "execution_count": 148,
   "metadata": {},
   "outputs": [
    {
     "name": "stdout",
     "output_type": "stream",
     "text": [
      "[0.21212121 0.22943723 0.22077922 0.20562771 0.24025974 0.18614719\n",
      " 0.22077922 0.22077922 0.22727273 0.17787419 0.20390456 0.23861171\n",
      " 0.22125813 0.22993492 0.20173536 0.24511931 0.22993492 0.22125813\n",
      " 0.20390456 0.23861171]\n",
      "21.88\n"
     ]
    }
   ],
   "source": [
    "clf=GaussianNB()\n",
    "score=cross_val_score(clf, app_data, changed_target, cv=k_fold, n_jobs=1)\n",
    "print(score)\n",
    "print(round(np.mean(score)*100,2))"
   ]
  },
  {
   "cell_type": "code",
   "execution_count": 149,
   "metadata": {},
   "outputs": [
    {
     "name": "stdout",
     "output_type": "stream",
     "text": [
      "[0.7034632  0.7012987  0.76623377 0.7034632  0.71212121 0.74242424\n",
      " 0.6991342  0.7012987  0.71861472 0.69631236 0.670282   0.74403471\n",
      " 0.70065076 0.70065076 0.71149675 0.68763557 0.72885033 0.72668113\n",
      " 0.72451193 0.69631236]\n",
      "71.18\n"
     ]
    }
   ],
   "source": [
    "clf=DecisionTreeClassifier()\n",
    "score=cross_val_score(clf, app_data, changed_target, cv=k_fold, n_jobs=1)\n",
    "print(score)\n",
    "print(round(np.mean(score)*100,2))"
   ]
  },
  {
   "cell_type": "code",
   "execution_count": 150,
   "metadata": {},
   "outputs": [
    {
     "name": "stdout",
     "output_type": "stream",
     "text": [
      "[0.73593074 0.73376623 0.77922078 0.75757576 0.7965368  0.76190476\n",
      " 0.77272727 0.77056277 0.76190476 0.77223427 0.75488069 0.79392625\n",
      " 0.76138829 0.7483731  0.76355748 0.77223427 0.78091106 0.77006508\n",
      " 0.75921909 0.80911063]\n",
      "76.78\n"
     ]
    }
   ],
   "source": [
    "clf=RandomForestClassifier()\n",
    "score=cross_val_score(clf, app_data, changed_target, cv=k_fold, n_jobs=1)\n",
    "print(score)\n",
    "print(round(np.mean(score)*100,2))"
   ]
  },
  {
   "cell_type": "markdown",
   "metadata": {},
   "source": [
    "### < Rating 값 예측 >"
   ]
  },
  {
   "cell_type": "code",
   "execution_count": 151,
   "metadata": {},
   "outputs": [],
   "source": [
    "clf=RandomForestClassifier()\n",
    "clf.fit(app_data, changed_target)\n",
    "prediction=clf.predict(app_test)"
   ]
  },
  {
   "cell_type": "code",
   "execution_count": 152,
   "metadata": {},
   "outputs": [
    {
     "data": {
      "text/plain": [
       "array([4, 4, 4, 4, 3, 3, 3, 4, 4, 4, 3, 4, 3, 4, 4, 4, 3, 4, 3, 5, 3, 3,\n",
       "       3, 4, 4, 3, 4, 4, 4, 4, 3, 4, 3, 4, 3, 4, 4, 4, 4, 4, 4, 4, 4, 4,\n",
       "       3, 4, 3, 3, 4, 4, 4, 3, 4, 3, 4, 3, 4, 3, 4, 3, 4, 3, 4, 3, 4, 3,\n",
       "       3, 3, 3, 3, 4, 3, 3, 3, 4, 4, 4, 3, 3, 4, 4, 3, 3, 4, 3, 4, 1, 3,\n",
       "       4, 4, 4, 4, 4, 4, 4, 4, 4, 4, 4, 1, 3, 3, 4, 3, 3, 4, 3, 3, 3, 5,\n",
       "       4, 3, 4, 3, 4, 1, 4, 1, 4, 5, 4, 5, 4, 4, 5, 3, 3, 4, 3, 4, 4, 4,\n",
       "       3, 3, 4, 4, 4, 5, 3, 1, 1, 1, 4, 3, 3, 4, 4, 3, 4, 4, 4, 3, 3, 4,\n",
       "       4, 4, 3, 3, 3, 3, 4, 3, 3, 3, 4, 3, 3, 5, 3, 3, 4, 3, 4, 5, 3, 5,\n",
       "       1, 4, 4, 4, 4, 4, 4, 4, 3, 3, 5, 4, 3, 4, 2, 4, 3, 4, 4, 3, 3, 3,\n",
       "       3, 4, 3, 4, 5, 4, 3, 4, 4, 4, 3, 4, 3, 4, 1, 3, 5, 3, 3, 4, 4, 3,\n",
       "       3, 4, 4, 4, 4, 1, 3, 4, 4, 4, 4, 4, 4, 3, 4, 4, 4, 3, 5, 5, 3, 4,\n",
       "       4, 4, 3, 3, 4, 4, 4, 3, 3, 4, 4, 4, 4, 3, 3, 4, 4, 5, 4, 4, 3, 4,\n",
       "       5, 4, 4, 4, 3, 4, 4, 4, 4, 4, 4, 5, 3, 4, 3, 3, 3, 4, 4, 5, 4, 4,\n",
       "       4, 4, 3, 4, 4, 4, 3, 4, 4, 4, 4, 4, 4, 3, 4, 3, 1, 4, 4, 3, 4, 4,\n",
       "       4, 4, 3, 4, 3, 4, 3, 1, 3, 4, 3, 4, 4, 4, 4, 3, 5, 4, 3, 3, 4, 3,\n",
       "       4, 4, 4, 4, 4, 4, 4, 3, 3, 4, 3, 3, 4, 4, 4, 1, 4, 5, 4, 1, 4, 1,\n",
       "       3, 4, 4, 4, 4, 4, 4, 5, 4, 4, 5, 3, 3, 4, 4, 4, 4, 4, 4, 4, 3, 4,\n",
       "       4, 4, 3, 3, 3, 3, 3, 3, 3, 4, 4, 3, 3, 4, 3, 4, 3, 3, 3, 3, 3, 5,\n",
       "       4, 4, 4, 4, 4, 3, 3, 4, 4, 4, 3, 4, 4, 3, 4, 3, 4, 3, 4, 3, 3, 3,\n",
       "       4, 4, 4, 3, 3, 4, 1, 3, 3, 5, 4, 3, 3, 3, 3, 4, 3, 1, 3, 4, 3, 4,\n",
       "       4, 3, 3, 4, 3, 3, 4, 4, 4, 3, 4, 3, 4, 3, 4, 4, 3, 4, 3, 4, 4, 5,\n",
       "       5, 3, 4, 4, 3, 4, 3, 3, 4, 4, 3, 3, 4, 3, 4, 4, 3, 4, 5, 4, 4, 4,\n",
       "       4, 4, 3, 3, 3, 3, 3, 3, 1, 4, 4, 4, 4, 4, 3, 4, 4, 4, 4, 4, 3, 4,\n",
       "       4, 3, 3, 3, 3, 4, 3, 3, 3, 4, 4, 3, 3, 4, 4, 4, 4, 3, 3, 4, 3, 1,\n",
       "       4, 4, 3, 3, 4, 4, 4, 4, 4, 4, 3, 3, 4, 3, 4, 4, 3, 4, 1, 4, 4, 4,\n",
       "       5, 3, 3, 3, 3, 3, 3, 4, 4, 3, 3, 4, 3, 3, 3, 4, 5, 4, 3, 3, 3, 4,\n",
       "       3, 3, 4, 2, 4, 4, 3, 4, 4, 4, 4, 4, 4, 3, 3, 4, 4, 1, 3, 4, 4, 4,\n",
       "       3, 1, 3, 4, 4, 4, 4, 1, 3, 4, 4, 4, 4, 4, 4, 4, 4, 1, 4, 1, 5, 5,\n",
       "       4, 3, 4, 4, 4, 5, 1, 3, 4, 4, 4, 4, 4, 4, 4, 4, 3, 4, 4, 4, 4, 3,\n",
       "       4, 4, 4, 3, 4, 3, 3, 3, 4, 4, 4, 4, 3, 3, 3, 5, 4, 3, 3, 4, 4, 4,\n",
       "       4, 3, 3, 4, 3, 3, 4, 4, 4, 4, 3, 4, 4, 4, 3, 5, 4, 4, 4, 3, 5, 5,\n",
       "       3, 3, 3, 4, 4, 4, 3, 3, 3, 3, 3, 3, 3, 4, 3, 4, 3, 3, 4, 4, 4, 4,\n",
       "       4, 5, 4, 3, 3, 1, 4, 4, 3, 4, 4, 4, 4, 5, 3, 3, 4, 3, 4, 4, 4, 4,\n",
       "       4, 4, 3, 3, 5, 4, 4, 5, 4, 4, 3, 5, 3, 3, 3, 5, 3, 4, 5, 4, 4, 3,\n",
       "       1, 4, 3, 3, 4, 3, 4, 3, 1, 4, 3, 4, 5, 1, 4, 3, 3, 4, 3, 1, 4, 4,\n",
       "       3, 4, 4, 4, 4, 4, 3, 4, 4, 3, 4, 4, 4, 4, 5, 4, 4, 3, 4, 3, 3, 3,\n",
       "       4, 4, 4, 3, 3, 4, 4, 4, 5, 3, 3, 4, 4, 3, 3, 4, 3, 3, 3, 4, 4, 4,\n",
       "       4, 3, 4, 4, 3, 4, 4, 3, 3, 3, 4, 3, 4, 4, 3, 3, 4, 3, 3, 3, 4, 4,\n",
       "       4, 4, 3, 3, 3, 4, 1, 4, 1, 4, 3, 4, 3, 4, 4, 4, 4, 3, 4, 3],\n",
       "      dtype=int64)"
      ]
     },
     "execution_count": 152,
     "metadata": {},
     "output_type": "execute_result"
    }
   ],
   "source": [
    "prediction"
   ]
  },
  {
   "cell_type": "markdown",
   "metadata": {},
   "source": [
    "### < 예측변수 변경 (Installs 예측) >"
   ]
  },
  {
   "cell_type": "code",
   "execution_count": 153,
   "metadata": {},
   "outputs": [
    {
     "data": {
      "text/html": [
       "<div>\n",
       "<style scoped>\n",
       "    .dataframe tbody tr th:only-of-type {\n",
       "        vertical-align: middle;\n",
       "    }\n",
       "\n",
       "    .dataframe tbody tr th {\n",
       "        vertical-align: top;\n",
       "    }\n",
       "\n",
       "    .dataframe thead th {\n",
       "        text-align: right;\n",
       "    }\n",
       "</style>\n",
       "<table border=\"1\" class=\"dataframe\">\n",
       "  <thead>\n",
       "    <tr style=\"text-align: right;\">\n",
       "      <th></th>\n",
       "      <th>NameLen</th>\n",
       "      <th>Category</th>\n",
       "      <th>Genres</th>\n",
       "      <th>RecomendAge</th>\n",
       "      <th>Charge</th>\n",
       "      <th>Price</th>\n",
       "      <th>UpdateTerm</th>\n",
       "      <th>Size</th>\n",
       "      <th>Installs</th>\n",
       "      <th>Reviews</th>\n",
       "      <th>Reviews_c</th>\n",
       "      <th>Rating</th>\n",
       "    </tr>\n",
       "  </thead>\n",
       "  <tbody>\n",
       "    <tr>\n",
       "      <th>NameLen</th>\n",
       "      <td>1.000000</td>\n",
       "      <td>-0.030340</td>\n",
       "      <td>0.010568</td>\n",
       "      <td>0.068184</td>\n",
       "      <td>-0.017260</td>\n",
       "      <td>-0.025238</td>\n",
       "      <td>-0.151394</td>\n",
       "      <td>0.024698</td>\n",
       "      <td>0.095187</td>\n",
       "      <td>-0.029452</td>\n",
       "      <td>0.087833</td>\n",
       "      <td>0.150228</td>\n",
       "    </tr>\n",
       "    <tr>\n",
       "      <th>Category</th>\n",
       "      <td>-0.030340</td>\n",
       "      <td>1.000000</td>\n",
       "      <td>0.845664</td>\n",
       "      <td>-0.104985</td>\n",
       "      <td>0.047900</td>\n",
       "      <td>-0.014965</td>\n",
       "      <td>0.062335</td>\n",
       "      <td>-0.042690</td>\n",
       "      <td>0.029969</td>\n",
       "      <td>-0.013659</td>\n",
       "      <td>0.024223</td>\n",
       "      <td>-0.025540</td>\n",
       "    </tr>\n",
       "    <tr>\n",
       "      <th>Genres</th>\n",
       "      <td>0.010568</td>\n",
       "      <td>0.845664</td>\n",
       "      <td>1.000000</td>\n",
       "      <td>-0.098530</td>\n",
       "      <td>0.063799</td>\n",
       "      <td>-0.023256</td>\n",
       "      <td>0.028808</td>\n",
       "      <td>-0.096589</td>\n",
       "      <td>0.048594</td>\n",
       "      <td>-0.004749</td>\n",
       "      <td>0.033965</td>\n",
       "      <td>-0.027153</td>\n",
       "    </tr>\n",
       "    <tr>\n",
       "      <th>RecomendAge</th>\n",
       "      <td>0.068184</td>\n",
       "      <td>-0.104985</td>\n",
       "      <td>-0.098530</td>\n",
       "      <td>1.000000</td>\n",
       "      <td>-0.041831</td>\n",
       "      <td>-0.017217</td>\n",
       "      <td>-0.081645</td>\n",
       "      <td>0.162151</td>\n",
       "      <td>0.121794</td>\n",
       "      <td>0.060899</td>\n",
       "      <td>0.155299</td>\n",
       "      <td>0.007546</td>\n",
       "    </tr>\n",
       "    <tr>\n",
       "      <th>Charge</th>\n",
       "      <td>-0.017260</td>\n",
       "      <td>0.047900</td>\n",
       "      <td>0.063799</td>\n",
       "      <td>-0.041831</td>\n",
       "      <td>1.000000</td>\n",
       "      <td>0.226075</td>\n",
       "      <td>0.168613</td>\n",
       "      <td>-0.032361</td>\n",
       "      <td>-0.272090</td>\n",
       "      <td>-0.042661</td>\n",
       "      <td>-0.182826</td>\n",
       "      <td>0.041048</td>\n",
       "    </tr>\n",
       "    <tr>\n",
       "      <th>Price</th>\n",
       "      <td>-0.025238</td>\n",
       "      <td>-0.014965</td>\n",
       "      <td>-0.023256</td>\n",
       "      <td>-0.017217</td>\n",
       "      <td>0.226075</td>\n",
       "      <td>1.000000</td>\n",
       "      <td>0.002903</td>\n",
       "      <td>-0.025758</td>\n",
       "      <td>-0.065245</td>\n",
       "      <td>-0.009820</td>\n",
       "      <td>-0.051940</td>\n",
       "      <td>-0.022479</td>\n",
       "    </tr>\n",
       "    <tr>\n",
       "      <th>UpdateTerm</th>\n",
       "      <td>-0.151394</td>\n",
       "      <td>0.062335</td>\n",
       "      <td>0.028808</td>\n",
       "      <td>-0.081645</td>\n",
       "      <td>0.168613</td>\n",
       "      <td>0.002903</td>\n",
       "      <td>1.000000</td>\n",
       "      <td>-0.214270</td>\n",
       "      <td>-0.286814</td>\n",
       "      <td>-0.088577</td>\n",
       "      <td>-0.290664</td>\n",
       "      <td>-0.142573</td>\n",
       "    </tr>\n",
       "    <tr>\n",
       "      <th>Size</th>\n",
       "      <td>0.024698</td>\n",
       "      <td>-0.042690</td>\n",
       "      <td>-0.096589</td>\n",
       "      <td>0.162151</td>\n",
       "      <td>-0.032361</td>\n",
       "      <td>-0.025758</td>\n",
       "      <td>-0.214270</td>\n",
       "      <td>1.000000</td>\n",
       "      <td>0.292264</td>\n",
       "      <td>0.150531</td>\n",
       "      <td>0.330982</td>\n",
       "      <td>0.089889</td>\n",
       "    </tr>\n",
       "    <tr>\n",
       "      <th>Installs</th>\n",
       "      <td>0.095187</td>\n",
       "      <td>0.029969</td>\n",
       "      <td>0.048594</td>\n",
       "      <td>0.121794</td>\n",
       "      <td>-0.272090</td>\n",
       "      <td>-0.065245</td>\n",
       "      <td>-0.286814</td>\n",
       "      <td>0.292264</td>\n",
       "      <td>1.000000</td>\n",
       "      <td>0.288985</td>\n",
       "      <td>0.938049</td>\n",
       "      <td>0.158525</td>\n",
       "    </tr>\n",
       "    <tr>\n",
       "      <th>Reviews</th>\n",
       "      <td>-0.029452</td>\n",
       "      <td>-0.013659</td>\n",
       "      <td>-0.004749</td>\n",
       "      <td>0.060899</td>\n",
       "      <td>-0.042661</td>\n",
       "      <td>-0.009820</td>\n",
       "      <td>-0.088577</td>\n",
       "      <td>0.150531</td>\n",
       "      <td>0.288985</td>\n",
       "      <td>1.000000</td>\n",
       "      <td>0.340924</td>\n",
       "      <td>0.071837</td>\n",
       "    </tr>\n",
       "    <tr>\n",
       "      <th>Reviews_c</th>\n",
       "      <td>0.087833</td>\n",
       "      <td>0.024223</td>\n",
       "      <td>0.033965</td>\n",
       "      <td>0.155299</td>\n",
       "      <td>-0.182826</td>\n",
       "      <td>-0.051940</td>\n",
       "      <td>-0.290664</td>\n",
       "      <td>0.330982</td>\n",
       "      <td>0.938049</td>\n",
       "      <td>0.340924</td>\n",
       "      <td>1.000000</td>\n",
       "      <td>0.255633</td>\n",
       "    </tr>\n",
       "    <tr>\n",
       "      <th>Rating</th>\n",
       "      <td>0.150228</td>\n",
       "      <td>-0.025540</td>\n",
       "      <td>-0.027153</td>\n",
       "      <td>0.007546</td>\n",
       "      <td>0.041048</td>\n",
       "      <td>-0.022479</td>\n",
       "      <td>-0.142573</td>\n",
       "      <td>0.089889</td>\n",
       "      <td>0.158525</td>\n",
       "      <td>0.071837</td>\n",
       "      <td>0.255633</td>\n",
       "      <td>1.000000</td>\n",
       "    </tr>\n",
       "  </tbody>\n",
       "</table>\n",
       "</div>"
      ],
      "text/plain": [
       "              NameLen  Category    Genres  RecomendAge    Charge     Price  \\\n",
       "NameLen      1.000000 -0.030340  0.010568     0.068184 -0.017260 -0.025238   \n",
       "Category    -0.030340  1.000000  0.845664    -0.104985  0.047900 -0.014965   \n",
       "Genres       0.010568  0.845664  1.000000    -0.098530  0.063799 -0.023256   \n",
       "RecomendAge  0.068184 -0.104985 -0.098530     1.000000 -0.041831 -0.017217   \n",
       "Charge      -0.017260  0.047900  0.063799    -0.041831  1.000000  0.226075   \n",
       "Price       -0.025238 -0.014965 -0.023256    -0.017217  0.226075  1.000000   \n",
       "UpdateTerm  -0.151394  0.062335  0.028808    -0.081645  0.168613  0.002903   \n",
       "Size         0.024698 -0.042690 -0.096589     0.162151 -0.032361 -0.025758   \n",
       "Installs     0.095187  0.029969  0.048594     0.121794 -0.272090 -0.065245   \n",
       "Reviews     -0.029452 -0.013659 -0.004749     0.060899 -0.042661 -0.009820   \n",
       "Reviews_c    0.087833  0.024223  0.033965     0.155299 -0.182826 -0.051940   \n",
       "Rating       0.150228 -0.025540 -0.027153     0.007546  0.041048 -0.022479   \n",
       "\n",
       "             UpdateTerm      Size  Installs   Reviews  Reviews_c    Rating  \n",
       "NameLen       -0.151394  0.024698  0.095187 -0.029452   0.087833  0.150228  \n",
       "Category       0.062335 -0.042690  0.029969 -0.013659   0.024223 -0.025540  \n",
       "Genres         0.028808 -0.096589  0.048594 -0.004749   0.033965 -0.027153  \n",
       "RecomendAge   -0.081645  0.162151  0.121794  0.060899   0.155299  0.007546  \n",
       "Charge         0.168613 -0.032361 -0.272090 -0.042661  -0.182826  0.041048  \n",
       "Price          0.002903 -0.025758 -0.065245 -0.009820  -0.051940 -0.022479  \n",
       "UpdateTerm     1.000000 -0.214270 -0.286814 -0.088577  -0.290664 -0.142573  \n",
       "Size          -0.214270  1.000000  0.292264  0.150531   0.330982  0.089889  \n",
       "Installs      -0.286814  0.292264  1.000000  0.288985   0.938049  0.158525  \n",
       "Reviews       -0.088577  0.150531  0.288985  1.000000   0.340924  0.071837  \n",
       "Reviews_c     -0.290664  0.330982  0.938049  0.340924   1.000000  0.255633  \n",
       "Rating        -0.142573  0.089889  0.158525  0.071837   0.255633  1.000000  "
      ]
     },
     "execution_count": 153,
     "metadata": {},
     "output_type": "execute_result"
    }
   ],
   "source": [
    "app.corr()"
   ]
  },
  {
   "cell_type": "code",
   "execution_count": 154,
   "metadata": {},
   "outputs": [],
   "source": [
    "data2=app.drop([\"Installs\"], axis=1)\n",
    "target2=app.Installs"
   ]
  },
  {
   "cell_type": "code",
   "execution_count": 155,
   "metadata": {},
   "outputs": [],
   "source": [
    "k_fold=KFold(n_splits=20, shuffle=True, random_state=0)"
   ]
  },
  {
   "cell_type": "code",
   "execution_count": 156,
   "metadata": {},
   "outputs": [
    {
     "name": "stdout",
     "output_type": "stream",
     "text": [
      "[0.41558442 0.34632035 0.36363636 0.36363636 0.34848485 0.35930736\n",
      " 0.35064935 0.4025974  0.33766234 0.35574837 0.39045553 0.32537961\n",
      " 0.3318872  0.34056399 0.37744035 0.37527115 0.34707158 0.35574837\n",
      " 0.34056399 0.35357918]\n",
      "35.91\n"
     ]
    }
   ],
   "source": [
    "clf= KNeighborsClassifier(n_neighbors=20) \n",
    "score=cross_val_score(clf, data2, target2, cv=k_fold,n_jobs=1)\n",
    "print(score)\n",
    "print(round(np.mean(score)*100,2))"
   ]
  },
  {
   "cell_type": "code",
   "execution_count": 157,
   "metadata": {},
   "outputs": [
    {
     "name": "stdout",
     "output_type": "stream",
     "text": [
      "[0.42207792 0.34199134 0.4025974  0.38744589 0.41125541 0.34848485\n",
      " 0.43722944 0.43073593 0.4025974  0.34056399 0.4164859  0.4143167\n",
      " 0.37744035 0.42950108 0.39262473 0.36876356 0.37744035 0.36225597\n",
      " 0.37093275 0.37310195]\n",
      "39.04\n"
     ]
    }
   ],
   "source": [
    "clf=GaussianNB()\n",
    "score=cross_val_score(clf, data2, target2, cv=k_fold, n_jobs=1)\n",
    "print(score)\n",
    "print(round(np.mean(score)*100,2))"
   ]
  },
  {
   "cell_type": "code",
   "execution_count": 158,
   "metadata": {},
   "outputs": [
    {
     "name": "stdout",
     "output_type": "stream",
     "text": [
      "[0.54112554 0.52380952 0.56277056 0.54545455 0.52164502 0.53030303\n",
      " 0.52813853 0.55194805 0.58441558 0.50759219 0.54446855 0.57483731\n",
      " 0.55748373 0.53796095 0.54663774 0.54446855 0.59219089 0.52277657\n",
      " 0.53362256 0.55314534]\n",
      "54.52\n"
     ]
    }
   ],
   "source": [
    "clf=DecisionTreeClassifier()\n",
    "score=cross_val_score(clf, data2, target2, cv=k_fold, n_jobs=1)\n",
    "print(score)\n",
    "print(round(np.mean(score)*100,2))"
   ]
  },
  {
   "cell_type": "code",
   "execution_count": 159,
   "metadata": {},
   "outputs": [
    {
     "name": "stdout",
     "output_type": "stream",
     "text": [
      "[0.60822511 0.61255411 0.64502165 0.60606061 0.62121212 0.62770563\n",
      " 0.61904762 0.62770563 0.61255411 0.61171367 0.62906725 0.60737527\n",
      " 0.61171367 0.63340564 0.56616052 0.63340564 0.62906725 0.65292842\n",
      " 0.59436009 0.62039046]\n",
      "61.85\n"
     ]
    }
   ],
   "source": [
    "clf=RandomForestClassifier()\n",
    "score=cross_val_score(clf, data2, target2, cv=k_fold, n_jobs=1)\n",
    "print(score)\n",
    "print(round(np.mean(score)*100,2))"
   ]
  },
  {
   "cell_type": "markdown",
   "metadata": {},
   "source": [
    "## 4. 결과 분석"
   ]
  },
  {
   "cell_type": "code",
   "execution_count": 160,
   "metadata": {},
   "outputs": [],
   "source": [
    "# There were not enough variables to predict Rating.\n",
    "# Rating values are concentrated within a certain range, which reduces the meaning of predicting Rating."
   ]
  }
 ],
 "metadata": {
  "kernelspec": {
   "display_name": "Python 3",
   "language": "python",
   "name": "python3"
  },
  "language_info": {
   "codemirror_mode": {
    "name": "ipython",
    "version": 3
   },
   "file_extension": ".py",
   "mimetype": "text/x-python",
   "name": "python",
   "nbconvert_exporter": "python",
   "pygments_lexer": "ipython3",
   "version": "3.6.5"
  }
 },
 "nbformat": 4,
 "nbformat_minor": 2
}
